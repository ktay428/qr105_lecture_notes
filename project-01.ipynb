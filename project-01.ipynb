{
  "cells": [
    {
      "cell_type": "markdown",
      "id": "9496b0d9-98ae-42cd-a2cb-1184cf4e95f2",
      "metadata": {
        "id": "9496b0d9-98ae-42cd-a2cb-1184cf4e95f2"
      },
      "source": [
        "# Project 1: Creating TTRPG Tools"
      ]
    },
    {
      "cell_type": "code",
      "execution_count": null,
      "id": "588c0854-ea4b-464b-9cb1-b72323c071c9",
      "metadata": {
        "id": "588c0854-ea4b-464b-9cb1-b72323c071c9"
      },
      "outputs": [],
      "source": [
        "# Provide a brief summary of the project in your own words\n"
      ]
    },
    {
      "cell_type": "markdown",
      "source": [
        "In Project 1, we are using Python to create tools to help players in TTRPG's. The Python script includes character generation, quest generation, and a dice roller."
      ],
      "metadata": {
        "id": "L5vvYykUnxqy"
      },
      "id": "L5vvYykUnxqy"
    },
    {
      "cell_type": "markdown",
      "id": "6680210f-f9a2-4b10-993b-63f53162e55c",
      "metadata": {
        "id": "6680210f-f9a2-4b10-993b-63f53162e55c"
      },
      "source": [
        "## I. Introduction"
      ]
    },
    {
      "cell_type": "code",
      "execution_count": null,
      "id": "d9f1d29d-e584-4cb9-b7c1-f4887d201dd4",
      "metadata": {
        "id": "d9f1d29d-e584-4cb9-b7c1-f4887d201dd4"
      },
      "outputs": [],
      "source": [
        "# Explain the theme of your game.\n",
        "\n",
        "# Discuss any details you find interesting or fun\n",
        "\n"
      ]
    },
    {
      "cell_type": "markdown",
      "source": [
        "The theme of Sentai Sensibilty created by Bug Boll at 9th Level games, is a mix of power rangers and robots with a Regency setting. The 'Sentai of Rangers' work together to defend against the organization called 'The Syndicate', in between tea parties and other activities from the Receny era of British history."
      ],
      "metadata": {
        "id": "WmRMyW1PoDpS"
      },
      "id": "WmRMyW1PoDpS"
    },
    {
      "cell_type": "markdown",
      "id": "141c8b7b-eaa8-4d78-a33f-0656d178483d",
      "metadata": {
        "id": "141c8b7b-eaa8-4d78-a33f-0656d178483d"
      },
      "source": [
        "## II. Character Generation"
      ]
    },
    {
      "cell_type": "code",
      "execution_count": 5,
      "id": "e19ffd1c-0d17-4cc1-8e20-455fc27d7ca1",
      "metadata": {
        "id": "e19ffd1c-0d17-4cc1-8e20-455fc27d7ca1"
      },
      "outputs": [],
      "source": [
        "# this is where you should place all cells that contain code or markdown\n",
        "# having to do with generating a character\n",
        "\n",
        "import random\n",
        "\n",
        "# Sentai Sensibility specifc character traits\n",
        "\n",
        "# 4 roles and dice\n",
        "roles = {\n",
        "    'The Premier' : 'd4',\n",
        "    'The Ronin' : 'd6',\n",
        "    'The Hussar' : 'd8',\n",
        "    'The Dragoon' : 'd10'\n",
        "}\n",
        "\n",
        "#edges\n",
        "character_classes = {\n",
        "    'The Renegade': {\n",
        "        'edges' : ['Aristocrat', 'Assassin', 'Bureaucrat', 'Driver', 'Intelligence', 'Officer', 'Plutocrat', 'Trooper'],\n",
        "    },\n",
        "    'The Revolutionary': {\n",
        "        'edges': ['Academic', 'Aristocrat', 'Commando', 'Firebrand', 'Mechanic', 'Organizer', 'Pilot', 'Spy'],\n",
        "    },\n",
        "    'The Robot': {\n",
        "        'edges': ['Assistant', 'Bucket', 'Fixer', 'Killer', 'Lifter', 'Megaputer', 'Spacer', 'Watchdog'],\n",
        "    },\n",
        "    'The Rogue': {\n",
        "        'edges': ['Crimer', 'Coyote', 'Duelist', 'Gambler', 'Coder', 'Racer', 'Thief', 'Smuggler'],\n",
        "    },\n",
        "    'The Ronin': {\n",
        "        'edges': ['Clairvoyant', 'Diplomat', 'General', 'Historian', 'Swordfighter', 'Teacher', 'Telekinetic', 'Telepath'],\n",
        "    },\n",
        "}\n",
        "\n",
        "\n",
        "\n",
        "\n",
        "#---------------------------------------\n",
        "## Generic Character Traits for Sci-Fi\n",
        "#---------------------------------------\n",
        "## first names\n",
        "first_names = ['Rintaro', 'Honey', 'Maddison', 'Daily', 'Fisher']\n",
        "\n",
        "## last names\n",
        "last_names = ['Castleton', 'Hollow', 'Wind', 'Everfort', 'Stone']\n",
        "\n",
        "\n",
        "# # Sentai Sensibility doesn't specifically list genders\n",
        "# # genders\n",
        "# genders = ['', '']\n",
        "\n",
        "\n"
      ]
    },
    {
      "cell_type": "markdown",
      "id": "b771b28e-21d8-40df-925c-8706161eeecc",
      "metadata": {
        "id": "b771b28e-21d8-40df-925c-8706161eeecc"
      },
      "source": [
        "## III. Quest Generation"
      ]
    },
    {
      "cell_type": "code",
      "execution_count": 2,
      "id": "b5b87bcf-e30c-4cf5-858d-b3700bcf0d98",
      "metadata": {
        "id": "b5b87bcf-e30c-4cf5-858d-b3700bcf0d98",
        "outputId": "b4967c32-8307-4317-9115-62174ff3b75c",
        "colab": {
          "base_uri": "https://localhost:8080/"
        }
      },
      "outputs": [
        {
          "output_type": "stream",
          "name": "stdout",
          "text": [
            "Your mission is to create a dance at Stone Theatre, but beware of scorpion invasion . If successful, you will receive opportunity to perform at the Stone Theatre.\n"
          ]
        }
      ],
      "source": [
        "# this is where you should place all cells that contain code or markdown\n",
        "# having to do with generating a quest prompt\n",
        "\n",
        "import random\n",
        "\n",
        "###===============================\n",
        "### QUEST GENERATOR\n",
        "###===============================\n",
        "\n",
        "## first names\n",
        "\n",
        "first_names = [\n",
        "    'Rintaro',\n",
        "    'Honey',\n",
        "    'Maddison',\n",
        "    'Daily',\n",
        "    'Fisher'\n",
        "]\n",
        "\n",
        "\n",
        "## last names\n",
        "\n",
        "last_names = [\n",
        "    'Castleton',\n",
        "    'Hollow',\n",
        "    'Wind',\n",
        "    'Everfort',\n",
        "    'Stone'\n",
        "]\n",
        "\n",
        "\n",
        "## adjectives\n",
        "\n",
        "adjectives = [\n",
        "    'Adventerous',\n",
        "    'Courageous',\n",
        "    'Quiet',\n",
        "    'Hardworking',\n",
        "    'Energetic'\n",
        "]\n",
        "\n",
        "\n",
        "## objectives\n",
        "\n",
        "objectives = [\n",
        "    'walk in the woods',\n",
        "    'swim at the beach',\n",
        "    'have tea',\n",
        "    'paint a portrait',\n",
        "    'create a dance'\n",
        "]\n",
        "\n",
        "\n",
        "\n",
        "## locations\n",
        "\n",
        "locations = [\n",
        "    'the Forest',\n",
        "    'Salt Beach',\n",
        "    'Bell Castle',\n",
        "    'Oak Atelier',\n",
        "    'Stone Theatre'\n",
        "]\n",
        "\n",
        "\n",
        "\n",
        "## obstacles/conflicts\n",
        "\n",
        "obstacles = [\n",
        "   'falling trees',\n",
        "   'stinging jellyfish',\n",
        "   'frozen Castle guards ',\n",
        "   'missing items',\n",
        "   'scorpion invasion '\n",
        "]\n",
        "\n",
        "\n",
        "## rewards\n",
        "\n",
        "rewards = [\n",
        "    'mysterious key in the woods',\n",
        "    'hidden treasure in the ocean',\n",
        "    'invitation to Bell Castle',\n",
        "    'painting award',\n",
        "    'opportunity to perform at the Stone Theatre'\n",
        "]\n",
        "\n",
        "\n",
        "\n",
        "# Mission variables\n",
        "objective = random.choice(objectives)\n",
        "location = random.choice(locations)\n",
        "obstacle = random.choice(obstacles)\n",
        "reward = random.choice(rewards)\n",
        "\n",
        "# Prompt string\n",
        "quest = f'Your mission is to {objective} at {location}, but beware of {obstacle}. If successful, you will receive {reward}.'\n",
        "\n",
        "# Print\n",
        "print(quest)\n"
      ]
    },
    {
      "cell_type": "markdown",
      "id": "a6aea256-0e02-4006-a992-a340b217b233",
      "metadata": {
        "id": "a6aea256-0e02-4006-a992-a340b217b233"
      },
      "source": [
        "## IV. Dice Roller"
      ]
    },
    {
      "cell_type": "code",
      "execution_count": 10,
      "id": "9e3959b7-ffef-4c12-87a7-6c7905a573ed",
      "metadata": {
        "id": "9e3959b7-ffef-4c12-87a7-6c7905a573ed",
        "outputId": "a7abac17-2df0-4319-9956-8b39adcb8cf5",
        "colab": {
          "base_uri": "https://localhost:8080/"
        }
      },
      "outputs": [
        {
          "output_type": "stream",
          "name": "stdout",
          "text": [
            "You rolled a  2\n",
            "You rolled a  1\n",
            "You rolled a  3\n",
            "You rolled a  8\n"
          ]
        }
      ],
      "source": [
        "# this is where you should place all cells that contain code or markdown\n",
        "# having to do with creating your dice roller\n",
        "\n",
        "def roll_dice(dice_type):\n",
        "  # dice set dictionary\n",
        "  dice_set = {\n",
        "   'd4': 4,\n",
        "   'd6': 6,\n",
        "   'd8': 8,\n",
        "   'd10': 10\n",
        "}\n",
        "\n",
        "  roll = random.randint(1, dice_set[dice_type])\n",
        "\n",
        "  return roll\n",
        "\n",
        "print('You rolled a ', roll_dice('d4'))\n",
        "print('You rolled a ', roll_dice('d6'))\n",
        "print('You rolled a ', roll_dice('d8'))\n",
        "print('You rolled a ', roll_dice('d10'))\n",
        "\n",
        "\n",
        "\n",
        "resolver = {\n",
        "    'Etiquette' : [2, 3],\n",
        "    'Footwork' : [3, 4, 5],\n",
        "    'Dueling' : [4, 5, 6, 7],\n",
        "    'Vigor' : [5, 6, 7, 8, 9]\n",
        "}\n",
        "\n",
        "# def check_resolver(roll, action):\n"
      ]
    },
    {
      "cell_type": "markdown",
      "id": "e90654de-67e9-4d4e-a546-6a872c753007",
      "metadata": {
        "id": "e90654de-67e9-4d4e-a546-6a872c753007"
      },
      "source": [
        "# V. Running a Game"
      ]
    },
    {
      "cell_type": "code",
      "execution_count": null,
      "id": "20ba0ff0-1df7-4962-8155-9be2df26a967",
      "metadata": {
        "id": "20ba0ff0-1df7-4962-8155-9be2df26a967"
      },
      "outputs": [],
      "source": [
        "# this is where you should place all cells that contain code or markdown\n",
        "# having to do with starting a mock game\n",
        "\n",
        "# Generate at least 2 character sheets\n",
        "# Generate at least 1 quest\n",
        "# Roll at least 3 times testing differetnt die and conditions"
      ]
    },
    {
      "cell_type": "markdown",
      "id": "0c74c90c-e726-4fd3-8322-50cbb1f71124",
      "metadata": {
        "id": "0c74c90c-e726-4fd3-8322-50cbb1f71124"
      },
      "source": [
        "## IV. Conclusions & Final Thoughts"
      ]
    },
    {
      "cell_type": "code",
      "execution_count": null,
      "id": "41f4bf2a-5451-4863-ad6f-ba69b5104f9d",
      "metadata": {
        "id": "41f4bf2a-5451-4863-ad6f-ba69b5104f9d"
      },
      "outputs": [],
      "source": [
        "# Obstacles or difficulties you had in working through the code\n",
        "# and how you overcame them (or why you did not)\n",
        "\n",
        "# What are some ways you could use the structures you create in this project\n",
        "# in tasks or projects you work on outside of this class? In teaching in general?\n",
        "\n",
        "# Discuss your use of generative AI in this project (or why you chose not to use it).\n",
        "# Did you find it helpful, not helpful? Why or why not?\n",
        "\n",
        "# Features you would like to add in the future if given more time or Python knowledge"
      ]
    },
    {
      "cell_type": "markdown",
      "source": [
        "**Obstacles and difficulties in working through the code:**\n",
        "\n",
        "I also struggled understanding the TTRPG book, so it took me a while to find information from that text.\n",
        "\n",
        "\n",
        "\n",
        "**Ways to use the structures from this project in tasks or projects outside of this class or in teaching in general:**\n",
        "\n",
        "I think this project helped me learn more ways to use Chatgpt in helpful ways.\n",
        "\n",
        "**Use of generative AI in this project:**\n",
        "\n",
        "Before this project I didn't know anything about using generative AI, but I think I might be a little better at using it more frequently. It helped me make sense of code from Reggie's Rebel Scum Project, so that I could learn from it for my project.\n",
        "\n",
        "**Features to add in the future if given more time or more Python knowledge:**\n",
        "\n",
        "I'm thankful I was able to read Reggie's Rebel Scum Project because it helped me a little by guiding me on what are some of the main details I needed to include in the code. Looking at the code in Reggie's Project also helped me come up with ideas of questions to ask Chatgpt."
      ],
      "metadata": {
        "id": "95418_40Os4O"
      },
      "id": "95418_40Os4O"
    },
    {
      "cell_type": "markdown",
      "source": [
        "Citations:\n",
        "\n",
        "\n",
        "\n",
        "*   Chatgpt research\n",
        "*   Coding Activity 4\n",
        "*   Questions from classmates\n",
        "*   Reggie's Rebel Scum Python Project\n",
        "*   Sentai Sensibility TTRPG\n",
        "\n",
        "\n",
        "Chatgpt Link:\n",
        "\n",
        "\n",
        "\n",
        "\n"
      ],
      "metadata": {
        "id": "2LZRb3w1LP4r"
      },
      "id": "2LZRb3w1LP4r"
    }
  ],
  "metadata": {
    "kernelspec": {
      "display_name": "Python 3 (ipykernel)",
      "language": "python",
      "name": "python3"
    },
    "language_info": {
      "codemirror_mode": {
        "name": "ipython",
        "version": 3
      },
      "file_extension": ".py",
      "mimetype": "text/x-python",
      "name": "python",
      "nbconvert_exporter": "python",
      "pygments_lexer": "ipython3",
      "version": "3.10.13"
    },
    "colab": {
      "provenance": []
    }
  },
  "nbformat": 4,
  "nbformat_minor": 5
}