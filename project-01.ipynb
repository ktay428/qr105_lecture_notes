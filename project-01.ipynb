{
  "cells": [
    {
      "cell_type": "markdown",
      "id": "9496b0d9-98ae-42cd-a2cb-1184cf4e95f2",
      "metadata": {
        "id": "9496b0d9-98ae-42cd-a2cb-1184cf4e95f2"
      },
      "source": [
        "# Project 1: Creating TTRPG Tools"
      ]
    },
    {
      "cell_type": "code",
      "execution_count": null,
      "id": "588c0854-ea4b-464b-9cb1-b72323c071c9",
      "metadata": {
        "id": "588c0854-ea4b-464b-9cb1-b72323c071c9"
      },
      "outputs": [],
      "source": [
        "# Provide a brief summary of the project in your own words"
      ]
    },
    {
      "cell_type": "code",
      "execution_count": null,
      "id": "c6cd2f7a-b0ec-46ac-b492-5926a093a244",
      "metadata": {
        "id": "c6cd2f7a-b0ec-46ac-b492-5926a093a244"
      },
      "outputs": [],
      "source": []
    },
    {
      "cell_type": "markdown",
      "id": "6680210f-f9a2-4b10-993b-63f53162e55c",
      "metadata": {
        "id": "6680210f-f9a2-4b10-993b-63f53162e55c"
      },
      "source": [
        "## I. Introduction"
      ]
    },
    {
      "cell_type": "code",
      "execution_count": null,
      "id": "d9f1d29d-e584-4cb9-b7c1-f4887d201dd4",
      "metadata": {
        "id": "d9f1d29d-e584-4cb9-b7c1-f4887d201dd4"
      },
      "outputs": [],
      "source": [
        "# Explain the theme of your game.\n",
        "\n",
        "# Discuss any details you find interesting or fun\n",
        "\n"
      ]
    },
    {
      "cell_type": "code",
      "execution_count": null,
      "id": "00b61e1f-6e9c-4e66-99a4-6bce02484e81",
      "metadata": {
        "id": "00b61e1f-6e9c-4e66-99a4-6bce02484e81"
      },
      "outputs": [],
      "source": []
    },
    {
      "cell_type": "code",
      "execution_count": null,
      "id": "74bf62fb-d752-4dcd-9f01-009699f326f5",
      "metadata": {
        "id": "74bf62fb-d752-4dcd-9f01-009699f326f5"
      },
      "outputs": [],
      "source": []
    },
    {
      "cell_type": "markdown",
      "id": "141c8b7b-eaa8-4d78-a33f-0656d178483d",
      "metadata": {
        "id": "141c8b7b-eaa8-4d78-a33f-0656d178483d"
      },
      "source": [
        "## II. Character Generation"
      ]
    },
    {
      "cell_type": "code",
      "execution_count": null,
      "id": "e19ffd1c-0d17-4cc1-8e20-455fc27d7ca1",
      "metadata": {
        "id": "e19ffd1c-0d17-4cc1-8e20-455fc27d7ca1"
      },
      "outputs": [],
      "source": [
        "# this is where you should place all cells that contain code or markdown\n",
        "# having to do with generating a character\n",
        "\n"
      ]
    },
    {
      "cell_type": "code",
      "execution_count": null,
      "id": "d4b8e18a-ecae-4080-8e43-71c6fb4801e8",
      "metadata": {
        "id": "d4b8e18a-ecae-4080-8e43-71c6fb4801e8"
      },
      "outputs": [],
      "source": []
    },
    {
      "cell_type": "code",
      "execution_count": null,
      "id": "d5105437-d09f-4a95-8561-4d2ffa0cd078",
      "metadata": {
        "id": "d5105437-d09f-4a95-8561-4d2ffa0cd078"
      },
      "outputs": [],
      "source": []
    },
    {
      "cell_type": "markdown",
      "id": "b771b28e-21d8-40df-925c-8706161eeecc",
      "metadata": {
        "id": "b771b28e-21d8-40df-925c-8706161eeecc"
      },
      "source": [
        "## III. Quest Generation"
      ]
    },
    {
      "cell_type": "code",
      "execution_count": 1,
      "id": "b5b87bcf-e30c-4cf5-858d-b3700bcf0d98",
      "metadata": {
        "id": "b5b87bcf-e30c-4cf5-858d-b3700bcf0d98",
        "outputId": "ebea3677-0a6e-402d-d9de-ccda72f11012",
        "colab": {
          "base_uri": "https://localhost:8080/"
        }
      },
      "outputs": [
        {
          "output_type": "stream",
          "name": "stdout",
          "text": [
            "Your mission is to swim at the beach at the Forest, but beware of scorpion invasion . If successful, you will receive invitation to Bell Castle.\n"
          ]
        }
      ],
      "source": [
        "# this is where you should place all cells that contain code or markdown\n",
        "# having to do with generating a quest prompt\n",
        "\n",
        "\n",
        "\n",
        "import random\n",
        "\n",
        "## first names\n",
        "\n",
        "first_names = [\n",
        "    'Rintaro',\n",
        "    'Honey',\n",
        "    'Maddison',\n",
        "    'Daily',\n",
        "    'Fisher'\n",
        "]\n",
        "\n",
        "\n",
        "## last names\n",
        "\n",
        "last_names = [\n",
        "    'Castleton',\n",
        "    'Hollow',\n",
        "    'Wind',\n",
        "    'Everfort',\n",
        "    'Stone'\n",
        "]\n",
        "\n",
        "\n",
        "## adjectives\n",
        "\n",
        "adjectives = [\n",
        "    'Adventerous',\n",
        "    'Courageous',\n",
        "    'Quiet',\n",
        "    'Hardworking',\n",
        "    'Energetic'\n",
        "]\n",
        "\n",
        "\n",
        "## objectives\n",
        "\n",
        "objectives = [\n",
        "    'walk in the woods',\n",
        "    'swim at the beach',\n",
        "    'have tea',\n",
        "    'paint a portrait',\n",
        "    'create a dance'\n",
        "]\n",
        "\n",
        "\n",
        "\n",
        "## locations\n",
        "\n",
        "locations = [\n",
        "    'the Forest',\n",
        "    'Salt Beach',\n",
        "    'Bell Castle',\n",
        "    'Oak Atelier',\n",
        "    'Stone Theatre'\n",
        "]\n",
        "\n",
        "\n",
        "\n",
        "## obstacles/conflicts\n",
        "\n",
        "obstacles = [\n",
        "   'falling trees',\n",
        "   'stinging jellyfish',\n",
        "   'frozen Castle guards ',\n",
        "   'missing items',\n",
        "   'scorpion invasion '\n",
        "]\n",
        "\n",
        "\n",
        "## rewards\n",
        "\n",
        "rewards = [\n",
        "    'mysterious key in the woods',\n",
        "    'hidden treasure in the ocean',\n",
        "    'invitation to Bell Castle',\n",
        "    'painting award',\n",
        "    'opportunity to perform at the Stone Theatre'\n",
        "]\n",
        "\n",
        "\n",
        "\n",
        "# Mission variables\n",
        "objective = random.choice(objectives)\n",
        "location = random.choice(locations)\n",
        "obstacle = random.choice(obstacles)\n",
        "reward = random.choice(rewards)\n",
        "\n",
        "# Prompt string\n",
        "quest = f'Your mission is to {objective} at {location}, but beware of {obstacle}. If successful, you will receive {reward}.'\n",
        "\n",
        "# Print\n",
        "print(quest)"
      ]
    },
    {
      "cell_type": "markdown",
      "id": "a6aea256-0e02-4006-a992-a340b217b233",
      "metadata": {
        "id": "a6aea256-0e02-4006-a992-a340b217b233"
      },
      "source": [
        "## IV. Dice Roller"
      ]
    },
    {
      "cell_type": "code",
      "execution_count": null,
      "id": "9e3959b7-ffef-4c12-87a7-6c7905a573ed",
      "metadata": {
        "id": "9e3959b7-ffef-4c12-87a7-6c7905a573ed"
      },
      "outputs": [],
      "source": [
        "# this is where you should place all cells that contain code or markdown\n",
        "# having to do with creating your dice roller\n"
      ]
    },
    {
      "cell_type": "code",
      "execution_count": null,
      "id": "55cec440-a9c2-41e2-b318-11ed2185046b",
      "metadata": {
        "id": "55cec440-a9c2-41e2-b318-11ed2185046b"
      },
      "outputs": [],
      "source": []
    },
    {
      "cell_type": "code",
      "execution_count": null,
      "id": "81791bf9-0cad-47be-9067-b820fad2b5fe",
      "metadata": {
        "id": "81791bf9-0cad-47be-9067-b820fad2b5fe"
      },
      "outputs": [],
      "source": []
    },
    {
      "cell_type": "code",
      "execution_count": null,
      "id": "8b6f8abc-901b-49a5-bdc0-0a65ac93a77e",
      "metadata": {
        "id": "8b6f8abc-901b-49a5-bdc0-0a65ac93a77e"
      },
      "outputs": [],
      "source": []
    },
    {
      "cell_type": "markdown",
      "id": "e90654de-67e9-4d4e-a546-6a872c753007",
      "metadata": {
        "id": "e90654de-67e9-4d4e-a546-6a872c753007"
      },
      "source": [
        "# V. Running a Game"
      ]
    },
    {
      "cell_type": "code",
      "execution_count": null,
      "id": "20ba0ff0-1df7-4962-8155-9be2df26a967",
      "metadata": {
        "id": "20ba0ff0-1df7-4962-8155-9be2df26a967"
      },
      "outputs": [],
      "source": [
        "# this is where you should place all cells that contain code or markdown\n",
        "# having to do with starting a mock game\n",
        "\n",
        "# Generate at least 2 character sheets\n",
        "# Generate at least 1 quest\n",
        "# Roll at least 3 times testing differetnt die and conditions"
      ]
    },
    {
      "cell_type": "code",
      "execution_count": null,
      "id": "321a5053-e077-41cb-b9ce-f13a2337c596",
      "metadata": {
        "id": "321a5053-e077-41cb-b9ce-f13a2337c596"
      },
      "outputs": [],
      "source": []
    },
    {
      "cell_type": "markdown",
      "id": "0c74c90c-e726-4fd3-8322-50cbb1f71124",
      "metadata": {
        "id": "0c74c90c-e726-4fd3-8322-50cbb1f71124"
      },
      "source": [
        "## IV. Conclusions & Final Thoughts"
      ]
    },
    {
      "cell_type": "code",
      "execution_count": null,
      "id": "41f4bf2a-5451-4863-ad6f-ba69b5104f9d",
      "metadata": {
        "id": "41f4bf2a-5451-4863-ad6f-ba69b5104f9d"
      },
      "outputs": [],
      "source": [
        "# Obstacles or difficulties you had in working through the code\n",
        "# and how you overcame them (or why you did not)\n",
        "\n",
        "# What are some ways you could use the structures you create in this project\n",
        "# in tasks or projects you work on outside of this class? In teaching in general?\n",
        "\n",
        "# Discuss your use of generative AI in this project (or why you chose not to use it).\n",
        "# Did you find it helpful, not helpful? Why or why not?\n",
        "\n",
        "# Features you would like to add in the future if given more time or Python knowledge"
      ]
    }
  ],
  "metadata": {
    "kernelspec": {
      "display_name": "Python 3 (ipykernel)",
      "language": "python",
      "name": "python3"
    },
    "language_info": {
      "codemirror_mode": {
        "name": "ipython",
        "version": 3
      },
      "file_extension": ".py",
      "mimetype": "text/x-python",
      "name": "python",
      "nbconvert_exporter": "python",
      "pygments_lexer": "ipython3",
      "version": "3.10.13"
    },
    "colab": {
      "provenance": []
    }
  },
  "nbformat": 4,
  "nbformat_minor": 5
}