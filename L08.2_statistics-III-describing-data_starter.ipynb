{
  "cells": [
    {
      "cell_type": "markdown",
      "id": "0014b4d5-2d52-4041-b66b-7b1888c840a9",
      "metadata": {
        "id": "0014b4d5-2d52-4041-b66b-7b1888c840a9"
      },
      "source": [
        "# 8.2 Statistics Part III: Describing Data\n",
        "\n",
        "For this section we'll be using a single data set to demonstrate how to do each of the required calculations.\n",
        "\n",
        "## Why can't we just use Excel or Google Sheets?\n",
        "\n",
        "These programs are great for simply analysis but cannot handle very large data sets that well - not to mention that some of the calculations and data formatting we can performm with Pandas are either very complicated to implement in either program or cannot be easily accomplished with their existing functions.\n",
        "\n",
        "Data is often messy. The first stage consists of *data cleaning* and the libraries we'll be using make this much easier than either of these programs.\n"
      ]
    },
    {
      "cell_type": "markdown",
      "id": "cfbc31e7",
      "metadata": {
        "id": "cfbc31e7"
      },
      "source": [
        "## Import Libraries and Data Set\n",
        "\n",
        "We'll read this data set into our notebook from a .csv file. CSV stands for Comma Separated Values. Think of this as a file that stores a spreadsheet created in excel or google sheets in it's most simplified form. CSV files can be read by both excel and google sheets."
      ]
    },
    {
      "cell_type": "code",
      "execution_count": 1,
      "id": "4f4947b6-895a-43e1-926f-fce6268ce602",
      "metadata": {
        "id": "4f4947b6-895a-43e1-926f-fce6268ce602"
      },
      "outputs": [],
      "source": [
        "import pandas as pd\n",
        "import numpy as np\n",
        "import matplotlib.pyplot as plt\n",
        "\n",
        "nhl_url = 'https://raw.githubusercontent.com/RC25-QR105/lecture_notes/refs/heads/main/nhl_2019.csv'\n",
        "\n",
        "nhl = pd.read_csv(nhl_url) # replace with whatever dataset here"
      ]
    },
    {
      "cell_type": "markdown",
      "id": "eff01d71-3abc-45e2-8bcc-a5a527bb6412",
      "metadata": {
        "id": "eff01d71-3abc-45e2-8bcc-a5a527bb6412"
      },
      "source": [
        "This is a larger set of data. We'll use the `head` function in pandas to print only the first 5 rows of the dataframe. This allows us to see column headings and the general format of the dataframe."
      ]
    },
    {
      "cell_type": "code",
      "execution_count": 2,
      "id": "086b95f7-d9db-46b0-89a8-a11e5c364fac",
      "metadata": {
        "id": "086b95f7-d9db-46b0-89a8-a11e5c364fac",
        "outputId": "c1729843-bbd2-4314-da67-b048360dda6f",
        "colab": {
          "base_uri": "https://localhost:8080/",
          "height": 206
        }
      },
      "outputs": [
        {
          "output_type": "execute_result",
          "data": {
            "text/plain": [
              "                  team  wins  losses  ot_losses  PTS   GF   GA  goal_diff  \\\n",
              "0  Tampa Bay Lightning    62      16          4  128  325  222        103   \n",
              "1       Calgary Flames    50      25          7  107  289  227         62   \n",
              "2        Boston Bruins    49      24          9  107  259  215         44   \n",
              "3  Washington Capitals    48      26          8  104  278  249         29   \n",
              "4   New York Islanders    48      27          7  103  228  196         32   \n",
              "\n",
              "  Country  \n",
              "0     USA  \n",
              "1      CA  \n",
              "2     USA  \n",
              "3     USA  \n",
              "4     USA  "
            ],
            "text/html": [
              "\n",
              "  <div id=\"df-35468637-08cb-407e-a5e1-1b0dc05f2625\" class=\"colab-df-container\">\n",
              "    <div>\n",
              "<style scoped>\n",
              "    .dataframe tbody tr th:only-of-type {\n",
              "        vertical-align: middle;\n",
              "    }\n",
              "\n",
              "    .dataframe tbody tr th {\n",
              "        vertical-align: top;\n",
              "    }\n",
              "\n",
              "    .dataframe thead th {\n",
              "        text-align: right;\n",
              "    }\n",
              "</style>\n",
              "<table border=\"1\" class=\"dataframe\">\n",
              "  <thead>\n",
              "    <tr style=\"text-align: right;\">\n",
              "      <th></th>\n",
              "      <th>team</th>\n",
              "      <th>wins</th>\n",
              "      <th>losses</th>\n",
              "      <th>ot_losses</th>\n",
              "      <th>PTS</th>\n",
              "      <th>GF</th>\n",
              "      <th>GA</th>\n",
              "      <th>goal_diff</th>\n",
              "      <th>Country</th>\n",
              "    </tr>\n",
              "  </thead>\n",
              "  <tbody>\n",
              "    <tr>\n",
              "      <th>0</th>\n",
              "      <td>Tampa Bay Lightning</td>\n",
              "      <td>62</td>\n",
              "      <td>16</td>\n",
              "      <td>4</td>\n",
              "      <td>128</td>\n",
              "      <td>325</td>\n",
              "      <td>222</td>\n",
              "      <td>103</td>\n",
              "      <td>USA</td>\n",
              "    </tr>\n",
              "    <tr>\n",
              "      <th>1</th>\n",
              "      <td>Calgary Flames</td>\n",
              "      <td>50</td>\n",
              "      <td>25</td>\n",
              "      <td>7</td>\n",
              "      <td>107</td>\n",
              "      <td>289</td>\n",
              "      <td>227</td>\n",
              "      <td>62</td>\n",
              "      <td>CA</td>\n",
              "    </tr>\n",
              "    <tr>\n",
              "      <th>2</th>\n",
              "      <td>Boston Bruins</td>\n",
              "      <td>49</td>\n",
              "      <td>24</td>\n",
              "      <td>9</td>\n",
              "      <td>107</td>\n",
              "      <td>259</td>\n",
              "      <td>215</td>\n",
              "      <td>44</td>\n",
              "      <td>USA</td>\n",
              "    </tr>\n",
              "    <tr>\n",
              "      <th>3</th>\n",
              "      <td>Washington Capitals</td>\n",
              "      <td>48</td>\n",
              "      <td>26</td>\n",
              "      <td>8</td>\n",
              "      <td>104</td>\n",
              "      <td>278</td>\n",
              "      <td>249</td>\n",
              "      <td>29</td>\n",
              "      <td>USA</td>\n",
              "    </tr>\n",
              "    <tr>\n",
              "      <th>4</th>\n",
              "      <td>New York Islanders</td>\n",
              "      <td>48</td>\n",
              "      <td>27</td>\n",
              "      <td>7</td>\n",
              "      <td>103</td>\n",
              "      <td>228</td>\n",
              "      <td>196</td>\n",
              "      <td>32</td>\n",
              "      <td>USA</td>\n",
              "    </tr>\n",
              "  </tbody>\n",
              "</table>\n",
              "</div>\n",
              "    <div class=\"colab-df-buttons\">\n",
              "\n",
              "  <div class=\"colab-df-container\">\n",
              "    <button class=\"colab-df-convert\" onclick=\"convertToInteractive('df-35468637-08cb-407e-a5e1-1b0dc05f2625')\"\n",
              "            title=\"Convert this dataframe to an interactive table.\"\n",
              "            style=\"display:none;\">\n",
              "\n",
              "  <svg xmlns=\"http://www.w3.org/2000/svg\" height=\"24px\" viewBox=\"0 -960 960 960\">\n",
              "    <path d=\"M120-120v-720h720v720H120Zm60-500h600v-160H180v160Zm220 220h160v-160H400v160Zm0 220h160v-160H400v160ZM180-400h160v-160H180v160Zm440 0h160v-160H620v160ZM180-180h160v-160H180v160Zm440 0h160v-160H620v160Z\"/>\n",
              "  </svg>\n",
              "    </button>\n",
              "\n",
              "  <style>\n",
              "    .colab-df-container {\n",
              "      display:flex;\n",
              "      gap: 12px;\n",
              "    }\n",
              "\n",
              "    .colab-df-convert {\n",
              "      background-color: #E8F0FE;\n",
              "      border: none;\n",
              "      border-radius: 50%;\n",
              "      cursor: pointer;\n",
              "      display: none;\n",
              "      fill: #1967D2;\n",
              "      height: 32px;\n",
              "      padding: 0 0 0 0;\n",
              "      width: 32px;\n",
              "    }\n",
              "\n",
              "    .colab-df-convert:hover {\n",
              "      background-color: #E2EBFA;\n",
              "      box-shadow: 0px 1px 2px rgba(60, 64, 67, 0.3), 0px 1px 3px 1px rgba(60, 64, 67, 0.15);\n",
              "      fill: #174EA6;\n",
              "    }\n",
              "\n",
              "    .colab-df-buttons div {\n",
              "      margin-bottom: 4px;\n",
              "    }\n",
              "\n",
              "    [theme=dark] .colab-df-convert {\n",
              "      background-color: #3B4455;\n",
              "      fill: #D2E3FC;\n",
              "    }\n",
              "\n",
              "    [theme=dark] .colab-df-convert:hover {\n",
              "      background-color: #434B5C;\n",
              "      box-shadow: 0px 1px 3px 1px rgba(0, 0, 0, 0.15);\n",
              "      filter: drop-shadow(0px 1px 2px rgba(0, 0, 0, 0.3));\n",
              "      fill: #FFFFFF;\n",
              "    }\n",
              "  </style>\n",
              "\n",
              "    <script>\n",
              "      const buttonEl =\n",
              "        document.querySelector('#df-35468637-08cb-407e-a5e1-1b0dc05f2625 button.colab-df-convert');\n",
              "      buttonEl.style.display =\n",
              "        google.colab.kernel.accessAllowed ? 'block' : 'none';\n",
              "\n",
              "      async function convertToInteractive(key) {\n",
              "        const element = document.querySelector('#df-35468637-08cb-407e-a5e1-1b0dc05f2625');\n",
              "        const dataTable =\n",
              "          await google.colab.kernel.invokeFunction('convertToInteractive',\n",
              "                                                    [key], {});\n",
              "        if (!dataTable) return;\n",
              "\n",
              "        const docLinkHtml = 'Like what you see? Visit the ' +\n",
              "          '<a target=\"_blank\" href=https://colab.research.google.com/notebooks/data_table.ipynb>data table notebook</a>'\n",
              "          + ' to learn more about interactive tables.';\n",
              "        element.innerHTML = '';\n",
              "        dataTable['output_type'] = 'display_data';\n",
              "        await google.colab.output.renderOutput(dataTable, element);\n",
              "        const docLink = document.createElement('div');\n",
              "        docLink.innerHTML = docLinkHtml;\n",
              "        element.appendChild(docLink);\n",
              "      }\n",
              "    </script>\n",
              "  </div>\n",
              "\n",
              "\n",
              "<div id=\"df-55dcff26-a636-4e2d-9dd1-b86c2c55fc1a\">\n",
              "  <button class=\"colab-df-quickchart\" onclick=\"quickchart('df-55dcff26-a636-4e2d-9dd1-b86c2c55fc1a')\"\n",
              "            title=\"Suggest charts\"\n",
              "            style=\"display:none;\">\n",
              "\n",
              "<svg xmlns=\"http://www.w3.org/2000/svg\" height=\"24px\"viewBox=\"0 0 24 24\"\n",
              "     width=\"24px\">\n",
              "    <g>\n",
              "        <path d=\"M19 3H5c-1.1 0-2 .9-2 2v14c0 1.1.9 2 2 2h14c1.1 0 2-.9 2-2V5c0-1.1-.9-2-2-2zM9 17H7v-7h2v7zm4 0h-2V7h2v10zm4 0h-2v-4h2v4z\"/>\n",
              "    </g>\n",
              "</svg>\n",
              "  </button>\n",
              "\n",
              "<style>\n",
              "  .colab-df-quickchart {\n",
              "      --bg-color: #E8F0FE;\n",
              "      --fill-color: #1967D2;\n",
              "      --hover-bg-color: #E2EBFA;\n",
              "      --hover-fill-color: #174EA6;\n",
              "      --disabled-fill-color: #AAA;\n",
              "      --disabled-bg-color: #DDD;\n",
              "  }\n",
              "\n",
              "  [theme=dark] .colab-df-quickchart {\n",
              "      --bg-color: #3B4455;\n",
              "      --fill-color: #D2E3FC;\n",
              "      --hover-bg-color: #434B5C;\n",
              "      --hover-fill-color: #FFFFFF;\n",
              "      --disabled-bg-color: #3B4455;\n",
              "      --disabled-fill-color: #666;\n",
              "  }\n",
              "\n",
              "  .colab-df-quickchart {\n",
              "    background-color: var(--bg-color);\n",
              "    border: none;\n",
              "    border-radius: 50%;\n",
              "    cursor: pointer;\n",
              "    display: none;\n",
              "    fill: var(--fill-color);\n",
              "    height: 32px;\n",
              "    padding: 0;\n",
              "    width: 32px;\n",
              "  }\n",
              "\n",
              "  .colab-df-quickchart:hover {\n",
              "    background-color: var(--hover-bg-color);\n",
              "    box-shadow: 0 1px 2px rgba(60, 64, 67, 0.3), 0 1px 3px 1px rgba(60, 64, 67, 0.15);\n",
              "    fill: var(--button-hover-fill-color);\n",
              "  }\n",
              "\n",
              "  .colab-df-quickchart-complete:disabled,\n",
              "  .colab-df-quickchart-complete:disabled:hover {\n",
              "    background-color: var(--disabled-bg-color);\n",
              "    fill: var(--disabled-fill-color);\n",
              "    box-shadow: none;\n",
              "  }\n",
              "\n",
              "  .colab-df-spinner {\n",
              "    border: 2px solid var(--fill-color);\n",
              "    border-color: transparent;\n",
              "    border-bottom-color: var(--fill-color);\n",
              "    animation:\n",
              "      spin 1s steps(1) infinite;\n",
              "  }\n",
              "\n",
              "  @keyframes spin {\n",
              "    0% {\n",
              "      border-color: transparent;\n",
              "      border-bottom-color: var(--fill-color);\n",
              "      border-left-color: var(--fill-color);\n",
              "    }\n",
              "    20% {\n",
              "      border-color: transparent;\n",
              "      border-left-color: var(--fill-color);\n",
              "      border-top-color: var(--fill-color);\n",
              "    }\n",
              "    30% {\n",
              "      border-color: transparent;\n",
              "      border-left-color: var(--fill-color);\n",
              "      border-top-color: var(--fill-color);\n",
              "      border-right-color: var(--fill-color);\n",
              "    }\n",
              "    40% {\n",
              "      border-color: transparent;\n",
              "      border-right-color: var(--fill-color);\n",
              "      border-top-color: var(--fill-color);\n",
              "    }\n",
              "    60% {\n",
              "      border-color: transparent;\n",
              "      border-right-color: var(--fill-color);\n",
              "    }\n",
              "    80% {\n",
              "      border-color: transparent;\n",
              "      border-right-color: var(--fill-color);\n",
              "      border-bottom-color: var(--fill-color);\n",
              "    }\n",
              "    90% {\n",
              "      border-color: transparent;\n",
              "      border-bottom-color: var(--fill-color);\n",
              "    }\n",
              "  }\n",
              "</style>\n",
              "\n",
              "  <script>\n",
              "    async function quickchart(key) {\n",
              "      const quickchartButtonEl =\n",
              "        document.querySelector('#' + key + ' button');\n",
              "      quickchartButtonEl.disabled = true;  // To prevent multiple clicks.\n",
              "      quickchartButtonEl.classList.add('colab-df-spinner');\n",
              "      try {\n",
              "        const charts = await google.colab.kernel.invokeFunction(\n",
              "            'suggestCharts', [key], {});\n",
              "      } catch (error) {\n",
              "        console.error('Error during call to suggestCharts:', error);\n",
              "      }\n",
              "      quickchartButtonEl.classList.remove('colab-df-spinner');\n",
              "      quickchartButtonEl.classList.add('colab-df-quickchart-complete');\n",
              "    }\n",
              "    (() => {\n",
              "      let quickchartButtonEl =\n",
              "        document.querySelector('#df-55dcff26-a636-4e2d-9dd1-b86c2c55fc1a button');\n",
              "      quickchartButtonEl.style.display =\n",
              "        google.colab.kernel.accessAllowed ? 'block' : 'none';\n",
              "    })();\n",
              "  </script>\n",
              "</div>\n",
              "\n",
              "    </div>\n",
              "  </div>\n"
            ],
            "application/vnd.google.colaboratory.intrinsic+json": {
              "type": "dataframe",
              "variable_name": "nhl",
              "summary": "{\n  \"name\": \"nhl\",\n  \"rows\": 31,\n  \"fields\": [\n    {\n      \"column\": \"team\",\n      \"properties\": {\n        \"dtype\": \"string\",\n        \"num_unique_values\": 31,\n        \"samples\": [\n          \"Detroit Red Wings\",\n          \"Vegas Golden Knights\",\n          \"Anaheim Ducks\"\n        ],\n        \"semantic_type\": \"\",\n        \"description\": \"\"\n      }\n    },\n    {\n      \"column\": \"wins\",\n      \"properties\": {\n        \"dtype\": \"number\",\n        \"std\": 7,\n        \"min\": 29,\n        \"max\": 62,\n        \"num_unique_values\": 18,\n        \"samples\": [\n          62,\n          50,\n          43\n        ],\n        \"semantic_type\": \"\",\n        \"description\": \"\"\n      }\n    },\n    {\n      \"column\": \"losses\",\n      \"properties\": {\n        \"dtype\": \"number\",\n        \"std\": 6,\n        \"min\": 16,\n        \"max\": 47,\n        \"num_unique_values\": 20,\n        \"samples\": [\n          16,\n          41,\n          39\n        ],\n        \"semantic_type\": \"\",\n        \"description\": \"\"\n      }\n    },\n    {\n      \"column\": \"ot_losses\",\n      \"properties\": {\n        \"dtype\": \"number\",\n        \"std\": 2,\n        \"min\": 4,\n        \"max\": 14,\n        \"num_unique_values\": 10,\n        \"samples\": [\n          11,\n          7,\n          12\n        ],\n        \"semantic_type\": \"\",\n        \"description\": \"\"\n      }\n    },\n    {\n      \"column\": \"PTS\",\n      \"properties\": {\n        \"dtype\": \"number\",\n        \"std\": 13,\n        \"min\": 64,\n        \"max\": 128,\n        \"num_unique_values\": 24,\n        \"samples\": [\n          96,\n          80,\n          128\n        ],\n        \"semantic_type\": \"\",\n        \"description\": \"\"\n      }\n    },\n    {\n      \"column\": \"GF\",\n      \"properties\": {\n        \"dtype\": \"number\",\n        \"std\": 29,\n        \"min\": 199,\n        \"max\": 325,\n        \"num_unique_values\": 28,\n        \"samples\": [\n          245,\n          222,\n          272\n        ],\n        \"semantic_type\": \"\",\n        \"description\": \"\"\n      }\n    },\n    {\n      \"column\": \"GA\",\n      \"properties\": {\n        \"dtype\": \"number\",\n        \"std\": 26,\n        \"min\": 196,\n        \"max\": 302,\n        \"num_unique_values\": 28,\n        \"samples\": [\n          244,\n          275,\n          241\n        ],\n        \"semantic_type\": \"\",\n        \"description\": \"\"\n      }\n    },\n    {\n      \"column\": \"goal_diff\",\n      \"properties\": {\n        \"dtype\": \"number\",\n        \"std\": 40,\n        \"min\": -61,\n        \"max\": 103,\n        \"num_unique_values\": 27,\n        \"samples\": [\n          22,\n          14,\n          24\n        ],\n        \"semantic_type\": \"\",\n        \"description\": \"\"\n      }\n    },\n    {\n      \"column\": \"Country\",\n      \"properties\": {\n        \"dtype\": \"category\",\n        \"num_unique_values\": 2,\n        \"samples\": [\n          \"CA\",\n          \"USA\"\n        ],\n        \"semantic_type\": \"\",\n        \"description\": \"\"\n      }\n    }\n  ]\n}"
            }
          },
          "metadata": {},
          "execution_count": 2
        }
      ],
      "source": [
        "nhl.head() # displays first 5 lines"
      ]
    },
    {
      "cell_type": "code",
      "execution_count": 3,
      "id": "e1bd2253-5614-4566-be72-a6c2384931d4",
      "metadata": {
        "id": "e1bd2253-5614-4566-be72-a6c2384931d4",
        "outputId": "5417cfac-f4b7-4194-d3e2-832d0669d27b",
        "colab": {
          "base_uri": "https://localhost:8080/"
        }
      },
      "outputs": [
        {
          "output_type": "stream",
          "name": "stdout",
          "text": [
            "<class 'pandas.core.frame.DataFrame'>\n",
            "RangeIndex: 31 entries, 0 to 30\n",
            "Data columns (total 9 columns):\n",
            " #   Column     Non-Null Count  Dtype \n",
            "---  ------     --------------  ----- \n",
            " 0   team       31 non-null     object\n",
            " 1   wins       31 non-null     int64 \n",
            " 2   losses     31 non-null     int64 \n",
            " 3   ot_losses  31 non-null     int64 \n",
            " 4   PTS        31 non-null     int64 \n",
            " 5   GF         31 non-null     int64 \n",
            " 6   GA         31 non-null     int64 \n",
            " 7   goal_diff  31 non-null     int64 \n",
            " 8   Country    31 non-null     object\n",
            "dtypes: int64(7), object(2)\n",
            "memory usage: 2.3+ KB\n"
          ]
        }
      ],
      "source": [
        "nhl.info()"
      ]
    },
    {
      "cell_type": "code",
      "execution_count": 4,
      "id": "68d3398e-d99f-4896-9457-562e518dc2e6",
      "metadata": {
        "id": "68d3398e-d99f-4896-9457-562e518dc2e6",
        "outputId": "c1d3a5c8-63bd-4c84-f572-06734cfded2f",
        "colab": {
          "base_uri": "https://localhost:8080/",
          "height": 206
        }
      },
      "outputs": [
        {
          "output_type": "execute_result",
          "data": {
            "text/plain": [
              "                 team  wins  losses  ot_losses  PTS   GF   GA  goal_diff  \\\n",
              "26     Buffalo Sabres    33      39         10   76  226  271        -45   \n",
              "27  Detroit Red Wings    32      40         10   74  227  277        -50   \n",
              "28  New Jersey Devils    31      41         10   72  222  275        -53   \n",
              "29  Los Angeles Kings    31      42          9   71  202  263        -61   \n",
              "30    Ottawa Senators    29      47          6   64  242  302        -60   \n",
              "\n",
              "   Country  \n",
              "26     USA  \n",
              "27     USA  \n",
              "28     USA  \n",
              "29     USA  \n",
              "30      CA  "
            ],
            "text/html": [
              "\n",
              "  <div id=\"df-9d7ee4d0-2b95-400b-a981-763d43b2e564\" class=\"colab-df-container\">\n",
              "    <div>\n",
              "<style scoped>\n",
              "    .dataframe tbody tr th:only-of-type {\n",
              "        vertical-align: middle;\n",
              "    }\n",
              "\n",
              "    .dataframe tbody tr th {\n",
              "        vertical-align: top;\n",
              "    }\n",
              "\n",
              "    .dataframe thead th {\n",
              "        text-align: right;\n",
              "    }\n",
              "</style>\n",
              "<table border=\"1\" class=\"dataframe\">\n",
              "  <thead>\n",
              "    <tr style=\"text-align: right;\">\n",
              "      <th></th>\n",
              "      <th>team</th>\n",
              "      <th>wins</th>\n",
              "      <th>losses</th>\n",
              "      <th>ot_losses</th>\n",
              "      <th>PTS</th>\n",
              "      <th>GF</th>\n",
              "      <th>GA</th>\n",
              "      <th>goal_diff</th>\n",
              "      <th>Country</th>\n",
              "    </tr>\n",
              "  </thead>\n",
              "  <tbody>\n",
              "    <tr>\n",
              "      <th>26</th>\n",
              "      <td>Buffalo Sabres</td>\n",
              "      <td>33</td>\n",
              "      <td>39</td>\n",
              "      <td>10</td>\n",
              "      <td>76</td>\n",
              "      <td>226</td>\n",
              "      <td>271</td>\n",
              "      <td>-45</td>\n",
              "      <td>USA</td>\n",
              "    </tr>\n",
              "    <tr>\n",
              "      <th>27</th>\n",
              "      <td>Detroit Red Wings</td>\n",
              "      <td>32</td>\n",
              "      <td>40</td>\n",
              "      <td>10</td>\n",
              "      <td>74</td>\n",
              "      <td>227</td>\n",
              "      <td>277</td>\n",
              "      <td>-50</td>\n",
              "      <td>USA</td>\n",
              "    </tr>\n",
              "    <tr>\n",
              "      <th>28</th>\n",
              "      <td>New Jersey Devils</td>\n",
              "      <td>31</td>\n",
              "      <td>41</td>\n",
              "      <td>10</td>\n",
              "      <td>72</td>\n",
              "      <td>222</td>\n",
              "      <td>275</td>\n",
              "      <td>-53</td>\n",
              "      <td>USA</td>\n",
              "    </tr>\n",
              "    <tr>\n",
              "      <th>29</th>\n",
              "      <td>Los Angeles Kings</td>\n",
              "      <td>31</td>\n",
              "      <td>42</td>\n",
              "      <td>9</td>\n",
              "      <td>71</td>\n",
              "      <td>202</td>\n",
              "      <td>263</td>\n",
              "      <td>-61</td>\n",
              "      <td>USA</td>\n",
              "    </tr>\n",
              "    <tr>\n",
              "      <th>30</th>\n",
              "      <td>Ottawa Senators</td>\n",
              "      <td>29</td>\n",
              "      <td>47</td>\n",
              "      <td>6</td>\n",
              "      <td>64</td>\n",
              "      <td>242</td>\n",
              "      <td>302</td>\n",
              "      <td>-60</td>\n",
              "      <td>CA</td>\n",
              "    </tr>\n",
              "  </tbody>\n",
              "</table>\n",
              "</div>\n",
              "    <div class=\"colab-df-buttons\">\n",
              "\n",
              "  <div class=\"colab-df-container\">\n",
              "    <button class=\"colab-df-convert\" onclick=\"convertToInteractive('df-9d7ee4d0-2b95-400b-a981-763d43b2e564')\"\n",
              "            title=\"Convert this dataframe to an interactive table.\"\n",
              "            style=\"display:none;\">\n",
              "\n",
              "  <svg xmlns=\"http://www.w3.org/2000/svg\" height=\"24px\" viewBox=\"0 -960 960 960\">\n",
              "    <path d=\"M120-120v-720h720v720H120Zm60-500h600v-160H180v160Zm220 220h160v-160H400v160Zm0 220h160v-160H400v160ZM180-400h160v-160H180v160Zm440 0h160v-160H620v160ZM180-180h160v-160H180v160Zm440 0h160v-160H620v160Z\"/>\n",
              "  </svg>\n",
              "    </button>\n",
              "\n",
              "  <style>\n",
              "    .colab-df-container {\n",
              "      display:flex;\n",
              "      gap: 12px;\n",
              "    }\n",
              "\n",
              "    .colab-df-convert {\n",
              "      background-color: #E8F0FE;\n",
              "      border: none;\n",
              "      border-radius: 50%;\n",
              "      cursor: pointer;\n",
              "      display: none;\n",
              "      fill: #1967D2;\n",
              "      height: 32px;\n",
              "      padding: 0 0 0 0;\n",
              "      width: 32px;\n",
              "    }\n",
              "\n",
              "    .colab-df-convert:hover {\n",
              "      background-color: #E2EBFA;\n",
              "      box-shadow: 0px 1px 2px rgba(60, 64, 67, 0.3), 0px 1px 3px 1px rgba(60, 64, 67, 0.15);\n",
              "      fill: #174EA6;\n",
              "    }\n",
              "\n",
              "    .colab-df-buttons div {\n",
              "      margin-bottom: 4px;\n",
              "    }\n",
              "\n",
              "    [theme=dark] .colab-df-convert {\n",
              "      background-color: #3B4455;\n",
              "      fill: #D2E3FC;\n",
              "    }\n",
              "\n",
              "    [theme=dark] .colab-df-convert:hover {\n",
              "      background-color: #434B5C;\n",
              "      box-shadow: 0px 1px 3px 1px rgba(0, 0, 0, 0.15);\n",
              "      filter: drop-shadow(0px 1px 2px rgba(0, 0, 0, 0.3));\n",
              "      fill: #FFFFFF;\n",
              "    }\n",
              "  </style>\n",
              "\n",
              "    <script>\n",
              "      const buttonEl =\n",
              "        document.querySelector('#df-9d7ee4d0-2b95-400b-a981-763d43b2e564 button.colab-df-convert');\n",
              "      buttonEl.style.display =\n",
              "        google.colab.kernel.accessAllowed ? 'block' : 'none';\n",
              "\n",
              "      async function convertToInteractive(key) {\n",
              "        const element = document.querySelector('#df-9d7ee4d0-2b95-400b-a981-763d43b2e564');\n",
              "        const dataTable =\n",
              "          await google.colab.kernel.invokeFunction('convertToInteractive',\n",
              "                                                    [key], {});\n",
              "        if (!dataTable) return;\n",
              "\n",
              "        const docLinkHtml = 'Like what you see? Visit the ' +\n",
              "          '<a target=\"_blank\" href=https://colab.research.google.com/notebooks/data_table.ipynb>data table notebook</a>'\n",
              "          + ' to learn more about interactive tables.';\n",
              "        element.innerHTML = '';\n",
              "        dataTable['output_type'] = 'display_data';\n",
              "        await google.colab.output.renderOutput(dataTable, element);\n",
              "        const docLink = document.createElement('div');\n",
              "        docLink.innerHTML = docLinkHtml;\n",
              "        element.appendChild(docLink);\n",
              "      }\n",
              "    </script>\n",
              "  </div>\n",
              "\n",
              "\n",
              "<div id=\"df-455d8478-936b-4ab4-95b3-71df4a0e4ba9\">\n",
              "  <button class=\"colab-df-quickchart\" onclick=\"quickchart('df-455d8478-936b-4ab4-95b3-71df4a0e4ba9')\"\n",
              "            title=\"Suggest charts\"\n",
              "            style=\"display:none;\">\n",
              "\n",
              "<svg xmlns=\"http://www.w3.org/2000/svg\" height=\"24px\"viewBox=\"0 0 24 24\"\n",
              "     width=\"24px\">\n",
              "    <g>\n",
              "        <path d=\"M19 3H5c-1.1 0-2 .9-2 2v14c0 1.1.9 2 2 2h14c1.1 0 2-.9 2-2V5c0-1.1-.9-2-2-2zM9 17H7v-7h2v7zm4 0h-2V7h2v10zm4 0h-2v-4h2v4z\"/>\n",
              "    </g>\n",
              "</svg>\n",
              "  </button>\n",
              "\n",
              "<style>\n",
              "  .colab-df-quickchart {\n",
              "      --bg-color: #E8F0FE;\n",
              "      --fill-color: #1967D2;\n",
              "      --hover-bg-color: #E2EBFA;\n",
              "      --hover-fill-color: #174EA6;\n",
              "      --disabled-fill-color: #AAA;\n",
              "      --disabled-bg-color: #DDD;\n",
              "  }\n",
              "\n",
              "  [theme=dark] .colab-df-quickchart {\n",
              "      --bg-color: #3B4455;\n",
              "      --fill-color: #D2E3FC;\n",
              "      --hover-bg-color: #434B5C;\n",
              "      --hover-fill-color: #FFFFFF;\n",
              "      --disabled-bg-color: #3B4455;\n",
              "      --disabled-fill-color: #666;\n",
              "  }\n",
              "\n",
              "  .colab-df-quickchart {\n",
              "    background-color: var(--bg-color);\n",
              "    border: none;\n",
              "    border-radius: 50%;\n",
              "    cursor: pointer;\n",
              "    display: none;\n",
              "    fill: var(--fill-color);\n",
              "    height: 32px;\n",
              "    padding: 0;\n",
              "    width: 32px;\n",
              "  }\n",
              "\n",
              "  .colab-df-quickchart:hover {\n",
              "    background-color: var(--hover-bg-color);\n",
              "    box-shadow: 0 1px 2px rgba(60, 64, 67, 0.3), 0 1px 3px 1px rgba(60, 64, 67, 0.15);\n",
              "    fill: var(--button-hover-fill-color);\n",
              "  }\n",
              "\n",
              "  .colab-df-quickchart-complete:disabled,\n",
              "  .colab-df-quickchart-complete:disabled:hover {\n",
              "    background-color: var(--disabled-bg-color);\n",
              "    fill: var(--disabled-fill-color);\n",
              "    box-shadow: none;\n",
              "  }\n",
              "\n",
              "  .colab-df-spinner {\n",
              "    border: 2px solid var(--fill-color);\n",
              "    border-color: transparent;\n",
              "    border-bottom-color: var(--fill-color);\n",
              "    animation:\n",
              "      spin 1s steps(1) infinite;\n",
              "  }\n",
              "\n",
              "  @keyframes spin {\n",
              "    0% {\n",
              "      border-color: transparent;\n",
              "      border-bottom-color: var(--fill-color);\n",
              "      border-left-color: var(--fill-color);\n",
              "    }\n",
              "    20% {\n",
              "      border-color: transparent;\n",
              "      border-left-color: var(--fill-color);\n",
              "      border-top-color: var(--fill-color);\n",
              "    }\n",
              "    30% {\n",
              "      border-color: transparent;\n",
              "      border-left-color: var(--fill-color);\n",
              "      border-top-color: var(--fill-color);\n",
              "      border-right-color: var(--fill-color);\n",
              "    }\n",
              "    40% {\n",
              "      border-color: transparent;\n",
              "      border-right-color: var(--fill-color);\n",
              "      border-top-color: var(--fill-color);\n",
              "    }\n",
              "    60% {\n",
              "      border-color: transparent;\n",
              "      border-right-color: var(--fill-color);\n",
              "    }\n",
              "    80% {\n",
              "      border-color: transparent;\n",
              "      border-right-color: var(--fill-color);\n",
              "      border-bottom-color: var(--fill-color);\n",
              "    }\n",
              "    90% {\n",
              "      border-color: transparent;\n",
              "      border-bottom-color: var(--fill-color);\n",
              "    }\n",
              "  }\n",
              "</style>\n",
              "\n",
              "  <script>\n",
              "    async function quickchart(key) {\n",
              "      const quickchartButtonEl =\n",
              "        document.querySelector('#' + key + ' button');\n",
              "      quickchartButtonEl.disabled = true;  // To prevent multiple clicks.\n",
              "      quickchartButtonEl.classList.add('colab-df-spinner');\n",
              "      try {\n",
              "        const charts = await google.colab.kernel.invokeFunction(\n",
              "            'suggestCharts', [key], {});\n",
              "      } catch (error) {\n",
              "        console.error('Error during call to suggestCharts:', error);\n",
              "      }\n",
              "      quickchartButtonEl.classList.remove('colab-df-spinner');\n",
              "      quickchartButtonEl.classList.add('colab-df-quickchart-complete');\n",
              "    }\n",
              "    (() => {\n",
              "      let quickchartButtonEl =\n",
              "        document.querySelector('#df-455d8478-936b-4ab4-95b3-71df4a0e4ba9 button');\n",
              "      quickchartButtonEl.style.display =\n",
              "        google.colab.kernel.accessAllowed ? 'block' : 'none';\n",
              "    })();\n",
              "  </script>\n",
              "</div>\n",
              "\n",
              "    </div>\n",
              "  </div>\n"
            ],
            "application/vnd.google.colaboratory.intrinsic+json": {
              "type": "dataframe",
              "summary": "{\n  \"name\": \"nhl\",\n  \"rows\": 5,\n  \"fields\": [\n    {\n      \"column\": \"team\",\n      \"properties\": {\n        \"dtype\": \"string\",\n        \"num_unique_values\": 5,\n        \"samples\": [\n          \"Detroit Red Wings\",\n          \"Ottawa Senators\",\n          \"New Jersey Devils\"\n        ],\n        \"semantic_type\": \"\",\n        \"description\": \"\"\n      }\n    },\n    {\n      \"column\": \"wins\",\n      \"properties\": {\n        \"dtype\": \"number\",\n        \"std\": 1,\n        \"min\": 29,\n        \"max\": 33,\n        \"num_unique_values\": 4,\n        \"samples\": [\n          32,\n          29,\n          33\n        ],\n        \"semantic_type\": \"\",\n        \"description\": \"\"\n      }\n    },\n    {\n      \"column\": \"losses\",\n      \"properties\": {\n        \"dtype\": \"number\",\n        \"std\": 3,\n        \"min\": 39,\n        \"max\": 47,\n        \"num_unique_values\": 5,\n        \"samples\": [\n          40,\n          47,\n          41\n        ],\n        \"semantic_type\": \"\",\n        \"description\": \"\"\n      }\n    },\n    {\n      \"column\": \"ot_losses\",\n      \"properties\": {\n        \"dtype\": \"number\",\n        \"std\": 1,\n        \"min\": 6,\n        \"max\": 10,\n        \"num_unique_values\": 3,\n        \"samples\": [\n          10,\n          9,\n          6\n        ],\n        \"semantic_type\": \"\",\n        \"description\": \"\"\n      }\n    },\n    {\n      \"column\": \"PTS\",\n      \"properties\": {\n        \"dtype\": \"number\",\n        \"std\": 4,\n        \"min\": 64,\n        \"max\": 76,\n        \"num_unique_values\": 5,\n        \"samples\": [\n          74,\n          64,\n          72\n        ],\n        \"semantic_type\": \"\",\n        \"description\": \"\"\n      }\n    },\n    {\n      \"column\": \"GF\",\n      \"properties\": {\n        \"dtype\": \"number\",\n        \"std\": 14,\n        \"min\": 202,\n        \"max\": 242,\n        \"num_unique_values\": 5,\n        \"samples\": [\n          227,\n          242,\n          222\n        ],\n        \"semantic_type\": \"\",\n        \"description\": \"\"\n      }\n    },\n    {\n      \"column\": \"GA\",\n      \"properties\": {\n        \"dtype\": \"number\",\n        \"std\": 14,\n        \"min\": 263,\n        \"max\": 302,\n        \"num_unique_values\": 5,\n        \"samples\": [\n          277,\n          302,\n          275\n        ],\n        \"semantic_type\": \"\",\n        \"description\": \"\"\n      }\n    },\n    {\n      \"column\": \"goal_diff\",\n      \"properties\": {\n        \"dtype\": \"number\",\n        \"std\": 6,\n        \"min\": -61,\n        \"max\": -45,\n        \"num_unique_values\": 5,\n        \"samples\": [\n          -50,\n          -60,\n          -53\n        ],\n        \"semantic_type\": \"\",\n        \"description\": \"\"\n      }\n    },\n    {\n      \"column\": \"Country\",\n      \"properties\": {\n        \"dtype\": \"category\",\n        \"num_unique_values\": 2,\n        \"samples\": [\n          \"CA\",\n          \"USA\"\n        ],\n        \"semantic_type\": \"\",\n        \"description\": \"\"\n      }\n    }\n  ]\n}"
            }
          },
          "metadata": {},
          "execution_count": 4
        }
      ],
      "source": [
        "nhl.tail()"
      ]
    },
    {
      "cell_type": "markdown",
      "id": "25a3b95c-06b6-45d1-a4d4-6ef14e932bf0",
      "metadata": {
        "id": "25a3b95c-06b6-45d1-a4d4-6ef14e932bf0"
      },
      "source": [
        "## Measures of Central Tendency\n",
        "One important aspect of a distribution is where its center is located. The Mean, Median and Mode are all measures of central tendency.\n",
        "\n",
        "### Mean\n",
        "The first measure is arithmetic mean, or just mean for short. This can also be referred to as the average.\n",
        "\n",
        "> **Mean**  \n",
        "> The mean of a set of data is the sum of the data values divided by the number of values.\n",
        "\n",
        "$$\\mu = \\bar{x} = \\frac{\\sum x_i}{n}$$\n",
        "\n",
        "#### Calculating the Mean\n",
        "\n",
        "We calculate the mean of a series or column of a pandas dataframe using `mean()`."
      ]
    },
    {
      "cell_type": "code",
      "execution_count": 6,
      "id": "9ce60390-495c-43bb-ac86-4bff00c0889a",
      "metadata": {
        "id": "9ce60390-495c-43bb-ac86-4bff00c0889a",
        "outputId": "c60a93a2-f5d4-4d27-a6b6-ebf96f094ef5",
        "colab": {
          "base_uri": "https://localhost:8080/"
        }
      },
      "outputs": [
        {
          "output_type": "stream",
          "name": "stdout",
          "text": [
            "90.74193548387096\n"
          ]
        }
      ],
      "source": [
        "## find mean\n",
        "print(nhl['PTS'].mean())"
      ]
    },
    {
      "cell_type": "markdown",
      "id": "9fab6d67-8a3b-4c5c-8384-2ad41c087c10",
      "metadata": {
        "id": "9fab6d67-8a3b-4c5c-8384-2ad41c087c10"
      },
      "source": [
        "#### Try it Yourself\n",
        "\n",
        "Find the mean of the `losses` column.\n"
      ]
    },
    {
      "cell_type": "code",
      "execution_count": 7,
      "id": "59760bf1-f5ff-45d9-b65c-b487e2842fa8",
      "metadata": {
        "id": "59760bf1-f5ff-45d9-b65c-b487e2842fa8",
        "outputId": "d315a162-2a10-492b-dcf8-1cf7a05855df",
        "colab": {
          "base_uri": "https://localhost:8080/"
        }
      },
      "outputs": [
        {
          "output_type": "stream",
          "name": "stdout",
          "text": [
            "32.25806451612903\n"
          ]
        }
      ],
      "source": [
        "## find average number of losses\n",
        "print(nhl['losses'].mean())"
      ]
    },
    {
      "cell_type": "markdown",
      "id": "b0a62f37-fa8e-46ef-bad7-e6e43c73b7c1",
      "metadata": {
        "id": "b0a62f37-fa8e-46ef-bad7-e6e43c73b7c1"
      },
      "source": [
        "### Median\n",
        "\n",
        "When working with data that have outliers – values far outside the primary grouping – it is common to use a different measure of center, the median.\n",
        "\n",
        "> **Median**  \n",
        "> The median of a set of data is the value in the middle when the data is in order\n",
        "\n",
        "**To find the median:**\n",
        "\n",
        "* List data in order from smallest to largest, or largest to smallest.\n",
        "\n",
        "* If the number of data values, $N$, is odd, then the median is the middle data value.  This value can be found by rounding $N/2$ up to the next whole number.  \n",
        "\n",
        "* If the number of data values is even, there is no one middle value, so we find the mean of the two middle values (values $N/2$ and $N/2 + 1$)\n",
        "\n",
        "\n",
        "#### Calculating the Median\n",
        "\n",
        "We calculate the mean of a series or column of a pandas dataframe using `median()`."
      ]
    },
    {
      "cell_type": "code",
      "execution_count": 8,
      "id": "64b87371-9993-475e-bf1d-4e7407f96a7e",
      "metadata": {
        "id": "64b87371-9993-475e-bf1d-4e7407f96a7e",
        "outputId": "ae9ced23-90d9-4f5f-b413-da7f60b3b778",
        "colab": {
          "base_uri": "https://localhost:8080/"
        }
      },
      "outputs": [
        {
          "output_type": "execute_result",
          "data": {
            "text/plain": [
              "93.0"
            ]
          },
          "metadata": {},
          "execution_count": 8
        }
      ],
      "source": [
        "nhl['PTS'].median()\n"
      ]
    },
    {
      "cell_type": "markdown",
      "id": "9ad39782-645b-4c91-8761-bf7bc481ed8c",
      "metadata": {
        "id": "9ad39782-645b-4c91-8761-bf7bc481ed8c"
      },
      "source": [
        "#### Try it Yourself\n",
        "\n",
        "Find the median of the `losses` column."
      ]
    },
    {
      "cell_type": "code",
      "execution_count": 9,
      "id": "a7437a49-beac-4893-9633-e648e34cc4a1",
      "metadata": {
        "id": "a7437a49-beac-4893-9633-e648e34cc4a1",
        "outputId": "bd024b49-aa17-471d-bf7c-6b947b0191a1",
        "colab": {
          "base_uri": "https://localhost:8080/"
        }
      },
      "outputs": [
        {
          "output_type": "execute_result",
          "data": {
            "text/plain": [
              "32.0"
            ]
          },
          "metadata": {},
          "execution_count": 9
        }
      ],
      "source": [
        "## find median number of losses\n",
        "nhl['losses'].median()"
      ]
    },
    {
      "cell_type": "markdown",
      "id": "c1d34b95-5139-4c2b-8166-1e1a6a1e8a0c",
      "metadata": {
        "id": "c1d34b95-5139-4c2b-8166-1e1a6a1e8a0c"
      },
      "source": [
        "### Mode\n",
        "\n",
        "In addition to the mean and the median, there is one other common measurement of the \"typical\" value of a data set: the mode.  \n",
        "\n",
        "> **Mode**  \n",
        "> The mode is the element of the data set that occurs most frequently.\n",
        ">\n",
        "\n",
        "The mode is commonly used for categorical data. It doesn't make sense as a measure with most quantitative data, because the values tend to vary too much.\n",
        "\n",
        "#### Calculating the Mode\n",
        "\n",
        "We calculate the mode of a series or column of a pandas dataframe using `mode()`."
      ]
    },
    {
      "cell_type": "code",
      "execution_count": 10,
      "id": "57d85e72-d0d4-4406-802c-2e7d0d8c453a",
      "metadata": {
        "id": "57d85e72-d0d4-4406-802c-2e7d0d8c453a",
        "outputId": "55fa95e4-299d-4749-b143-1a85670a78ed",
        "colab": {
          "base_uri": "https://localhost:8080/",
          "height": 115
        }
      },
      "outputs": [
        {
          "output_type": "execute_result",
          "data": {
            "text/plain": [
              "0    USA\n",
              "Name: Country, dtype: object"
            ],
            "text/html": [
              "<div>\n",
              "<style scoped>\n",
              "    .dataframe tbody tr th:only-of-type {\n",
              "        vertical-align: middle;\n",
              "    }\n",
              "\n",
              "    .dataframe tbody tr th {\n",
              "        vertical-align: top;\n",
              "    }\n",
              "\n",
              "    .dataframe thead th {\n",
              "        text-align: right;\n",
              "    }\n",
              "</style>\n",
              "<table border=\"1\" class=\"dataframe\">\n",
              "  <thead>\n",
              "    <tr style=\"text-align: right;\">\n",
              "      <th></th>\n",
              "      <th>Country</th>\n",
              "    </tr>\n",
              "  </thead>\n",
              "  <tbody>\n",
              "    <tr>\n",
              "      <th>0</th>\n",
              "      <td>USA</td>\n",
              "    </tr>\n",
              "  </tbody>\n",
              "</table>\n",
              "</div><br><label><b>dtype:</b> object</label>"
            ]
          },
          "metadata": {},
          "execution_count": 10
        }
      ],
      "source": [
        "nhl['Country'].mode()\n"
      ]
    },
    {
      "cell_type": "markdown",
      "id": "db46ea3b-ee63-4178-9e53-ea944b50d2d1",
      "metadata": {
        "id": "db46ea3b-ee63-4178-9e53-ea944b50d2d1"
      },
      "source": [
        "Remember that if we wanted to get the actual counts, we could use `value_counts()`"
      ]
    },
    {
      "cell_type": "markdown",
      "id": "7a23db69-1780-44c9-84e4-19211e35a490",
      "metadata": {
        "id": "7a23db69-1780-44c9-84e4-19211e35a490"
      },
      "source": [
        "#### Try it Yourself\n",
        "\n",
        "Find the mode of the `ot_losses` column."
      ]
    },
    {
      "cell_type": "code",
      "execution_count": 11,
      "id": "f72445dd-830a-4eac-914a-d07c1d6fe89e",
      "metadata": {
        "id": "f72445dd-830a-4eac-914a-d07c1d6fe89e",
        "outputId": "a57d15c6-f799-4890-b2f5-02c0940546ef",
        "colab": {
          "base_uri": "https://localhost:8080/",
          "height": 115
        }
      },
      "outputs": [
        {
          "output_type": "execute_result",
          "data": {
            "text/plain": [
              "0    9\n",
              "Name: ot_losses, dtype: int64"
            ],
            "text/html": [
              "<div>\n",
              "<style scoped>\n",
              "    .dataframe tbody tr th:only-of-type {\n",
              "        vertical-align: middle;\n",
              "    }\n",
              "\n",
              "    .dataframe tbody tr th {\n",
              "        vertical-align: top;\n",
              "    }\n",
              "\n",
              "    .dataframe thead th {\n",
              "        text-align: right;\n",
              "    }\n",
              "</style>\n",
              "<table border=\"1\" class=\"dataframe\">\n",
              "  <thead>\n",
              "    <tr style=\"text-align: right;\">\n",
              "      <th></th>\n",
              "      <th>ot_losses</th>\n",
              "    </tr>\n",
              "  </thead>\n",
              "  <tbody>\n",
              "    <tr>\n",
              "      <th>0</th>\n",
              "      <td>9</td>\n",
              "    </tr>\n",
              "  </tbody>\n",
              "</table>\n",
              "</div><br><label><b>dtype:</b> int64</label>"
            ]
          },
          "metadata": {},
          "execution_count": 11
        }
      ],
      "source": [
        "## find the mode\n",
        "nhl['ot_losses'].mode()\n"
      ]
    },
    {
      "cell_type": "markdown",
      "id": "27aa043b-4ecc-4ece-baca-24cae6061cec",
      "metadata": {
        "id": "27aa043b-4ecc-4ece-baca-24cae6061cec"
      },
      "source": [
        "## Measures of Variation\n",
        "\n",
        "We also need a way to measure how spread out or varied a data set is.\n",
        "\n",
        "\n",
        "### Range\n",
        "\n",
        "There are several ways to measure this \"spread\" of the data.  The first is the simplest and is called the range.\n",
        "\n",
        "> **Range**  \n",
        "> The range is the difference between the maximum value and the minimum value of the data set.\n",
        "\n",
        "\n",
        "#### Calculating the Range\n",
        "\n",
        "There is no built in pandas function to find the range. To calculate it we use `max()` and `min()`."
      ]
    },
    {
      "cell_type": "code",
      "execution_count": 12,
      "id": "72d1fc76-1d2f-47f1-951b-c2cfac93411d",
      "metadata": {
        "id": "72d1fc76-1d2f-47f1-951b-c2cfac93411d",
        "outputId": "efb13bfa-da01-41c4-de5c-805388d5e3e4",
        "colab": {
          "base_uri": "https://localhost:8080/"
        }
      },
      "outputs": [
        {
          "output_type": "execute_result",
          "data": {
            "text/plain": [
              "64"
            ]
          },
          "metadata": {},
          "execution_count": 12
        }
      ],
      "source": [
        "# Range is calculated by range = max - min\n",
        "nhl['PTS'].max() - nhl['PTS'].min()\n"
      ]
    },
    {
      "cell_type": "code",
      "execution_count": null,
      "id": "fa6acb63-3250-467b-896c-946e5fd2211f",
      "metadata": {
        "id": "fa6acb63-3250-467b-896c-946e5fd2211f"
      },
      "outputs": [],
      "source": []
    },
    {
      "cell_type": "markdown",
      "id": "9ffc79fd-c917-47ec-ae69-e51ffd5da374",
      "metadata": {
        "id": "9ffc79fd-c917-47ec-ae69-e51ffd5da374"
      },
      "source": [
        "#### Try it Yourself\n",
        "\n",
        "Find the range of the `losses` column."
      ]
    },
    {
      "cell_type": "code",
      "execution_count": 13,
      "id": "714d1ed7-0ce9-470a-bb66-177a278a36a1",
      "metadata": {
        "id": "714d1ed7-0ce9-470a-bb66-177a278a36a1",
        "outputId": "a933be48-552f-415b-8eb7-e68a3c4d59ce",
        "colab": {
          "base_uri": "https://localhost:8080/"
        }
      },
      "outputs": [
        {
          "output_type": "execute_result",
          "data": {
            "text/plain": [
              "31"
            ]
          },
          "metadata": {},
          "execution_count": 13
        }
      ],
      "source": [
        "# find the range\n",
        "nhl['losses'].max() - nhl['losses'].min()"
      ]
    },
    {
      "cell_type": "markdown",
      "id": "78dab7ea-80f3-4b05-9d63-08decd4f3e29",
      "metadata": {
        "id": "78dab7ea-80f3-4b05-9d63-08decd4f3e29"
      },
      "source": [
        "### Writing a Function with Pandas\n",
        "\n",
        "If the range is a common calculation you end up doing, we can write a function that can calculate the range for a column of a dataframe. There a variety of ways to do this."
      ]
    },
    {
      "cell_type": "code",
      "execution_count": 14,
      "id": "c43be727-4dc6-4e11-86de-256ca08c004f",
      "metadata": {
        "id": "c43be727-4dc6-4e11-86de-256ca08c004f",
        "outputId": "12adbc03-7d5d-4e6e-8c5f-28d0db7eac86",
        "colab": {
          "base_uri": "https://localhost:8080/"
        }
      },
      "outputs": [
        {
          "output_type": "execute_result",
          "data": {
            "text/plain": [
              "64"
            ]
          },
          "metadata": {},
          "execution_count": 14
        }
      ],
      "source": [
        "def range(df, col_name):\n",
        "\n",
        "    r = df[col_name].max() - nhl[col_name].min()\n",
        "    #df means data fram\n",
        "\n",
        "    return r\n",
        "range(nhl, 'PTS')"
      ]
    },
    {
      "cell_type": "markdown",
      "id": "528cf67a-1794-47d2-9fdf-4dc25b1aa6cd",
      "metadata": {
        "id": "528cf67a-1794-47d2-9fdf-4dc25b1aa6cd"
      },
      "source": [
        "### Standard Deviation\n",
        "\n",
        "A more sophisticated way of determining variation in a data set is using standard deviation.\n",
        "\n",
        "> **Standard Deviation**\n",
        "> The standard deviation is a measure of variation based on measuring how far each data value deviates, or is different, from the mean.\n",
        "\n",
        "A few important characteristics:\n",
        "* Standard deviation is always positive.\n",
        "* Standard deviation will be zero if all the data values are equal, and will get larger as the data spreads out.\n",
        "* Standard deviation has the same units as the original data.\n",
        "* Standard deviation, like the mean, can be highly influenced by outliers."
      ]
    },
    {
      "cell_type": "markdown",
      "id": "1b945e7e-5e97-49bc-8a89-057a32839375",
      "metadata": {
        "id": "1b945e7e-5e97-49bc-8a89-057a32839375"
      },
      "source": [
        "To compute standard deviation\n",
        "\n",
        "1. Find the deviation of each data from the mean.  In other words, subtract the mean from the data value.\n",
        "2. Square each deviation.\n",
        "3. Add the squared deviations.\n",
        "4. Divide by $n$, the number of data values, if the data represents a whole population; divide by $n-1$ if the data is from a sample.\n",
        "5. Computer the square root of the result.\n",
        "\n",
        "$$ \\sigma = \\sqrt{\\frac{\\sum (x - \\mu)^2}{n-1}} $$\n",
        "\n",
        "This is a very tedious calculation to do by hand. Luckily, pandas does this easily for us."
      ]
    },
    {
      "cell_type": "markdown",
      "id": "70f30c48-8eb1-4d95-95f0-0e611522d495",
      "metadata": {
        "id": "70f30c48-8eb1-4d95-95f0-0e611522d495"
      },
      "source": [
        "#### Calculate the Standard Deviation\n",
        "\n",
        "We calculate the standard deviation with pandas using `std()`"
      ]
    },
    {
      "cell_type": "code",
      "execution_count": 15,
      "id": "94789549-466f-4d36-9e75-d81e467408ae",
      "metadata": {
        "id": "94789549-466f-4d36-9e75-d81e467408ae",
        "outputId": "8a09f9c6-7e01-4554-91ed-94cc35eb0658",
        "colab": {
          "base_uri": "https://localhost:8080/"
        }
      },
      "outputs": [
        {
          "output_type": "execute_result",
          "data": {
            "text/plain": [
              "13.652759774579119"
            ]
          },
          "metadata": {},
          "execution_count": 15
        }
      ],
      "source": [
        "nhl['PTS'].std()\n"
      ]
    },
    {
      "cell_type": "markdown",
      "id": "ac03bd57-81a8-49f5-b253-3ed2c631f9ed",
      "metadata": {
        "id": "ac03bd57-81a8-49f5-b253-3ed2c631f9ed"
      },
      "source": [
        "#### Try it Yourself\n",
        "\n",
        "Calculate the standard deviation of the `losses` column."
      ]
    },
    {
      "cell_type": "code",
      "execution_count": 16,
      "id": "5e9cd913-575b-4d67-9f59-858d7efabfe8",
      "metadata": {
        "id": "5e9cd913-575b-4d67-9f59-858d7efabfe8",
        "outputId": "524e0dde-5900-4562-cee1-2ec2f691f3c4",
        "colab": {
          "base_uri": "https://localhost:8080/"
        }
      },
      "outputs": [
        {
          "output_type": "execute_result",
          "data": {
            "text/plain": [
              "6.371644172610834"
            ]
          },
          "metadata": {},
          "execution_count": 16
        }
      ],
      "source": [
        "# find the standard deviation\n",
        "nhl['losses'].std()\n"
      ]
    },
    {
      "cell_type": "code",
      "execution_count": null,
      "id": "999bea61-c394-4fc0-a8b3-05a6c6e9a404",
      "metadata": {
        "id": "999bea61-c394-4fc0-a8b3-05a6c6e9a404"
      },
      "outputs": [],
      "source": []
    },
    {
      "cell_type": "markdown",
      "id": "2f81e1d5-a665-4c3e-9ce1-816166186e79",
      "metadata": {
        "id": "2f81e1d5-a665-4c3e-9ce1-816166186e79"
      },
      "source": [
        "### Quartiles\n",
        "\n",
        "Where standard deviation is a measure of variation based on the mean, quartiles are based on the median.\n",
        "\n",
        "> **Quartiles**  \n",
        "> Quartiles are values that divide the data in quarters.\n",
        ">\n",
        "\n",
        "* The first quartile $(Q1)$ is the value so that $25\\%$  of the data values are below it\n",
        "* The second quartile is the same as the median, since the median is the value so that $50\\%$  of the data values are below it.\n",
        "* The third quartile $(Q3)$ is the value so that $75\\%$  of the data values are below it.\n",
        "\n",
        "This divides the data into quarters;  $25\\%$ of the data is between the minimum and $Q1$, $25\\%$ is between $Q1$ and the median, $25\\%$ is between the median and $Q3$, and $25\\%$is between $Q3$ and the maximum value.\n",
        "\n",
        "\n",
        "#### Calculate the Quartiles\n",
        "\n",
        "We calculate the standard deviation with pandas using `quantile([0.25, 0.5, 0.75])`."
      ]
    },
    {
      "cell_type": "code",
      "execution_count": 18,
      "id": "4af7fe25-3def-4a2e-a0d7-e910dad586bb",
      "metadata": {
        "id": "4af7fe25-3def-4a2e-a0d7-e910dad586bb",
        "outputId": "e4c0464a-5816-45cb-870b-94c1ff40a6d7",
        "colab": {
          "base_uri": "https://localhost:8080/",
          "height": 178
        }
      },
      "outputs": [
        {
          "output_type": "execute_result",
          "data": {
            "text/plain": [
              "0.25     80.5\n",
              "0.50     93.0\n",
              "0.75    100.0\n",
              "Name: PTS, dtype: float64"
            ],
            "text/html": [
              "<div>\n",
              "<style scoped>\n",
              "    .dataframe tbody tr th:only-of-type {\n",
              "        vertical-align: middle;\n",
              "    }\n",
              "\n",
              "    .dataframe tbody tr th {\n",
              "        vertical-align: top;\n",
              "    }\n",
              "\n",
              "    .dataframe thead th {\n",
              "        text-align: right;\n",
              "    }\n",
              "</style>\n",
              "<table border=\"1\" class=\"dataframe\">\n",
              "  <thead>\n",
              "    <tr style=\"text-align: right;\">\n",
              "      <th></th>\n",
              "      <th>PTS</th>\n",
              "    </tr>\n",
              "  </thead>\n",
              "  <tbody>\n",
              "    <tr>\n",
              "      <th>0.25</th>\n",
              "      <td>80.5</td>\n",
              "    </tr>\n",
              "    <tr>\n",
              "      <th>0.50</th>\n",
              "      <td>93.0</td>\n",
              "    </tr>\n",
              "    <tr>\n",
              "      <th>0.75</th>\n",
              "      <td>100.0</td>\n",
              "    </tr>\n",
              "  </tbody>\n",
              "</table>\n",
              "</div><br><label><b>dtype:</b> float64</label>"
            ]
          },
          "metadata": {},
          "execution_count": 18
        }
      ],
      "source": [
        "nhl['PTS'].quantile([0.25, 0.5, 0.75])"
      ]
    },
    {
      "cell_type": "markdown",
      "id": "f1d96919-65fe-428d-885b-9637444c6de0",
      "metadata": {
        "id": "f1d96919-65fe-428d-885b-9637444c6de0"
      },
      "source": [
        "#### Try it Yourself\n",
        "\n",
        "Calculate the quartiles for the `GA` column. In a markdown cell below the output, write a sentence on how to read this data."
      ]
    },
    {
      "cell_type": "code",
      "execution_count": 19,
      "id": "07b7439f-db89-453c-bec0-d0713e3c54cf",
      "metadata": {
        "id": "07b7439f-db89-453c-bec0-d0713e3c54cf",
        "outputId": "52440a77-8720-45fb-d06b-fc38f6a5cb9e",
        "colab": {
          "base_uri": "https://localhost:8080/",
          "height": 178
        }
      },
      "outputs": [
        {
          "output_type": "execute_result",
          "data": {
            "text/plain": [
              "0.25    225.0\n",
              "0.50    246.0\n",
              "0.75    271.5\n",
              "Name: GA, dtype: float64"
            ],
            "text/html": [
              "<div>\n",
              "<style scoped>\n",
              "    .dataframe tbody tr th:only-of-type {\n",
              "        vertical-align: middle;\n",
              "    }\n",
              "\n",
              "    .dataframe tbody tr th {\n",
              "        vertical-align: top;\n",
              "    }\n",
              "\n",
              "    .dataframe thead th {\n",
              "        text-align: right;\n",
              "    }\n",
              "</style>\n",
              "<table border=\"1\" class=\"dataframe\">\n",
              "  <thead>\n",
              "    <tr style=\"text-align: right;\">\n",
              "      <th></th>\n",
              "      <th>GA</th>\n",
              "    </tr>\n",
              "  </thead>\n",
              "  <tbody>\n",
              "    <tr>\n",
              "      <th>0.25</th>\n",
              "      <td>225.0</td>\n",
              "    </tr>\n",
              "    <tr>\n",
              "      <th>0.50</th>\n",
              "      <td>246.0</td>\n",
              "    </tr>\n",
              "    <tr>\n",
              "      <th>0.75</th>\n",
              "      <td>271.5</td>\n",
              "    </tr>\n",
              "  </tbody>\n",
              "</table>\n",
              "</div><br><label><b>dtype:</b> float64</label>"
            ]
          },
          "metadata": {},
          "execution_count": 19
        }
      ],
      "source": [
        "# find the quartiles\n",
        "nhl['GA'].quantile([0.25, 0.5, 0.75])\n"
      ]
    },
    {
      "cell_type": "code",
      "execution_count": null,
      "id": "71b6b918-08f9-4069-9376-96d2e33cc2d3",
      "metadata": {
        "id": "71b6b918-08f9-4069-9376-96d2e33cc2d3"
      },
      "outputs": [],
      "source": []
    },
    {
      "cell_type": "markdown",
      "id": "b0544294-6def-4d52-a08a-31e906302f34",
      "metadata": {
        "id": "b0544294-6def-4d52-a08a-31e906302f34"
      },
      "source": [
        "## Five Number Summary\n",
        "\n",
        "Quartiles are used with the median, minimum, and maximum values to form a 5 number summary of the data.\n",
        "\n",
        "\n",
        "#### Calculate the Five Number Summary\n",
        "\n",
        "The pandas function `describe()` outputs a table of key information about a column. The following information is output.\n",
        "- **count**, which is equivalent to the number of cells (rows)\n",
        "- **mean**, the average of the values in the column\n",
        "- **std**, which is the standard deviation\n",
        "- **min**, the minimum value\n",
        "- **25%**, the 25th percentile of the values\n",
        "- **50%**, the 50th percentile of the values, which is the equivalent to the median\n",
        "- **75%**, the 75th percentile of the values\n",
        "- **max**, the maximum value\n",
        "\n",
        "We can see the output after running the code below."
      ]
    },
    {
      "cell_type": "code",
      "execution_count": 20,
      "id": "eb39d60e-f3d7-4dce-83e0-dbafb3c391bf",
      "metadata": {
        "id": "eb39d60e-f3d7-4dce-83e0-dbafb3c391bf",
        "outputId": "994e4d82-9bd0-44eb-83f8-99af4f933c78",
        "colab": {
          "base_uri": "https://localhost:8080/",
          "height": 335
        }
      },
      "outputs": [
        {
          "output_type": "execute_result",
          "data": {
            "text/plain": [
              "count     31.000000\n",
              "mean      90.741935\n",
              "std       13.652760\n",
              "min       64.000000\n",
              "25%       80.500000\n",
              "50%       93.000000\n",
              "75%      100.000000\n",
              "max      128.000000\n",
              "Name: PTS, dtype: float64"
            ],
            "text/html": [
              "<div>\n",
              "<style scoped>\n",
              "    .dataframe tbody tr th:only-of-type {\n",
              "        vertical-align: middle;\n",
              "    }\n",
              "\n",
              "    .dataframe tbody tr th {\n",
              "        vertical-align: top;\n",
              "    }\n",
              "\n",
              "    .dataframe thead th {\n",
              "        text-align: right;\n",
              "    }\n",
              "</style>\n",
              "<table border=\"1\" class=\"dataframe\">\n",
              "  <thead>\n",
              "    <tr style=\"text-align: right;\">\n",
              "      <th></th>\n",
              "      <th>PTS</th>\n",
              "    </tr>\n",
              "  </thead>\n",
              "  <tbody>\n",
              "    <tr>\n",
              "      <th>count</th>\n",
              "      <td>31.000000</td>\n",
              "    </tr>\n",
              "    <tr>\n",
              "      <th>mean</th>\n",
              "      <td>90.741935</td>\n",
              "    </tr>\n",
              "    <tr>\n",
              "      <th>std</th>\n",
              "      <td>13.652760</td>\n",
              "    </tr>\n",
              "    <tr>\n",
              "      <th>min</th>\n",
              "      <td>64.000000</td>\n",
              "    </tr>\n",
              "    <tr>\n",
              "      <th>25%</th>\n",
              "      <td>80.500000</td>\n",
              "    </tr>\n",
              "    <tr>\n",
              "      <th>50%</th>\n",
              "      <td>93.000000</td>\n",
              "    </tr>\n",
              "    <tr>\n",
              "      <th>75%</th>\n",
              "      <td>100.000000</td>\n",
              "    </tr>\n",
              "    <tr>\n",
              "      <th>max</th>\n",
              "      <td>128.000000</td>\n",
              "    </tr>\n",
              "  </tbody>\n",
              "</table>\n",
              "</div><br><label><b>dtype:</b> float64</label>"
            ]
          },
          "metadata": {},
          "execution_count": 20
        }
      ],
      "source": [
        "nhl['PTS'].describe()"
      ]
    },
    {
      "cell_type": "markdown",
      "id": "0f83a6cb-4236-430a-9419-185244bae0db",
      "metadata": {
        "id": "0f83a6cb-4236-430a-9419-185244bae0db"
      },
      "source": [
        "We calculate the five number summary with pandas using a subset of the output of `describe()`.\n"
      ]
    },
    {
      "cell_type": "code",
      "execution_count": 21,
      "id": "32ed8e2a-d223-4fde-89fa-5966076507b1",
      "metadata": {
        "id": "32ed8e2a-d223-4fde-89fa-5966076507b1",
        "outputId": "e528d406-3b2d-4231-b77f-88690634d584",
        "colab": {
          "base_uri": "https://localhost:8080/",
          "height": 241
        }
      },
      "outputs": [
        {
          "output_type": "execute_result",
          "data": {
            "text/plain": [
              "min     64.0\n",
              "25%     80.5\n",
              "50%     93.0\n",
              "75%    100.0\n",
              "max    128.0\n",
              "Name: PTS, dtype: float64"
            ],
            "text/html": [
              "<div>\n",
              "<style scoped>\n",
              "    .dataframe tbody tr th:only-of-type {\n",
              "        vertical-align: middle;\n",
              "    }\n",
              "\n",
              "    .dataframe tbody tr th {\n",
              "        vertical-align: top;\n",
              "    }\n",
              "\n",
              "    .dataframe thead th {\n",
              "        text-align: right;\n",
              "    }\n",
              "</style>\n",
              "<table border=\"1\" class=\"dataframe\">\n",
              "  <thead>\n",
              "    <tr style=\"text-align: right;\">\n",
              "      <th></th>\n",
              "      <th>PTS</th>\n",
              "    </tr>\n",
              "  </thead>\n",
              "  <tbody>\n",
              "    <tr>\n",
              "      <th>min</th>\n",
              "      <td>64.0</td>\n",
              "    </tr>\n",
              "    <tr>\n",
              "      <th>25%</th>\n",
              "      <td>80.5</td>\n",
              "    </tr>\n",
              "    <tr>\n",
              "      <th>50%</th>\n",
              "      <td>93.0</td>\n",
              "    </tr>\n",
              "    <tr>\n",
              "      <th>75%</th>\n",
              "      <td>100.0</td>\n",
              "    </tr>\n",
              "    <tr>\n",
              "      <th>max</th>\n",
              "      <td>128.0</td>\n",
              "    </tr>\n",
              "  </tbody>\n",
              "</table>\n",
              "</div><br><label><b>dtype:</b> float64</label>"
            ]
          },
          "metadata": {},
          "execution_count": 21
        }
      ],
      "source": [
        "nhl['PTS'].describe().loc[['min', '25%', '50%', '75%', 'max']]"
      ]
    },
    {
      "cell_type": "markdown",
      "id": "87c3895d-7128-409d-bb33-93d2e82a2b5c",
      "metadata": {
        "id": "87c3895d-7128-409d-bb33-93d2e82a2b5c"
      },
      "source": [
        "#### Try it Yourself\n",
        "\n",
        "Use the `describe()` function to output the key data measures for the `losses` column."
      ]
    },
    {
      "cell_type": "code",
      "execution_count": 22,
      "id": "f6467e2a-9083-433b-9fad-e31577940276",
      "metadata": {
        "id": "f6467e2a-9083-433b-9fad-e31577940276",
        "outputId": "5735c7e5-81b8-4e54-af93-f0033ad0bcd0",
        "colab": {
          "base_uri": "https://localhost:8080/",
          "height": 335
        }
      },
      "outputs": [
        {
          "output_type": "execute_result",
          "data": {
            "text/plain": [
              "count    31.000000\n",
              "mean     32.258065\n",
              "std       6.371644\n",
              "min      16.000000\n",
              "25%      28.000000\n",
              "50%      32.000000\n",
              "75%      36.500000\n",
              "max      47.000000\n",
              "Name: losses, dtype: float64"
            ],
            "text/html": [
              "<div>\n",
              "<style scoped>\n",
              "    .dataframe tbody tr th:only-of-type {\n",
              "        vertical-align: middle;\n",
              "    }\n",
              "\n",
              "    .dataframe tbody tr th {\n",
              "        vertical-align: top;\n",
              "    }\n",
              "\n",
              "    .dataframe thead th {\n",
              "        text-align: right;\n",
              "    }\n",
              "</style>\n",
              "<table border=\"1\" class=\"dataframe\">\n",
              "  <thead>\n",
              "    <tr style=\"text-align: right;\">\n",
              "      <th></th>\n",
              "      <th>losses</th>\n",
              "    </tr>\n",
              "  </thead>\n",
              "  <tbody>\n",
              "    <tr>\n",
              "      <th>count</th>\n",
              "      <td>31.000000</td>\n",
              "    </tr>\n",
              "    <tr>\n",
              "      <th>mean</th>\n",
              "      <td>32.258065</td>\n",
              "    </tr>\n",
              "    <tr>\n",
              "      <th>std</th>\n",
              "      <td>6.371644</td>\n",
              "    </tr>\n",
              "    <tr>\n",
              "      <th>min</th>\n",
              "      <td>16.000000</td>\n",
              "    </tr>\n",
              "    <tr>\n",
              "      <th>25%</th>\n",
              "      <td>28.000000</td>\n",
              "    </tr>\n",
              "    <tr>\n",
              "      <th>50%</th>\n",
              "      <td>32.000000</td>\n",
              "    </tr>\n",
              "    <tr>\n",
              "      <th>75%</th>\n",
              "      <td>36.500000</td>\n",
              "    </tr>\n",
              "    <tr>\n",
              "      <th>max</th>\n",
              "      <td>47.000000</td>\n",
              "    </tr>\n",
              "  </tbody>\n",
              "</table>\n",
              "</div><br><label><b>dtype:</b> float64</label>"
            ]
          },
          "metadata": {},
          "execution_count": 22
        }
      ],
      "source": [
        "# output the data summary\n",
        "\n",
        "nhl['losses'].describe()"
      ]
    },
    {
      "cell_type": "markdown",
      "id": "d0f600f0-7a2a-4e1a-bfe5-5ba7b04f8043",
      "metadata": {
        "id": "d0f600f0-7a2a-4e1a-bfe5-5ba7b04f8043"
      },
      "source": [
        "Fill out the values listed below based on this output.\n",
        "\n",
        "|         | Value |\n",
        "|:--------|--------:|\n",
        "|  Minimum   |     |\n",
        "|  Q1  |    |\n",
        "|  Median  |    |\n",
        "|  Q3   |   |\n",
        "|  Maximum   |     |\n"
      ]
    },
    {
      "cell_type": "markdown",
      "id": "a67167e1-7bbd-4db2-bcfb-93535b74f061",
      "metadata": {
        "id": "a67167e1-7bbd-4db2-bcfb-93535b74f061"
      },
      "source": [
        "### Boxplots\n",
        "\n",
        "\n",
        "For visualizing data, there is a graphical representation of a 5-number summary called a box plot, or box and whisker graph.\n",
        "\n",
        "#### Create a Boxplot\n",
        "\n",
        "We create a boxplot using either matplotlib or with the direct pandas function `boxplot()` function. Note that this is a dataframe function, so we need to specify which column or columns we want within the function call."
      ]
    },
    {
      "cell_type": "code",
      "execution_count": 23,
      "id": "8f0532b2-8ac2-4ccd-be17-abf25d83273e",
      "metadata": {
        "id": "8f0532b2-8ac2-4ccd-be17-abf25d83273e",
        "outputId": "e53bda1b-edfc-48fd-bef0-bf1cb10d6944",
        "colab": {
          "base_uri": "https://localhost:8080/",
          "height": 430
        }
      },
      "outputs": [
        {
          "output_type": "display_data",
          "data": {
            "text/plain": [
              "<Figure size 640x480 with 1 Axes>"
            ],
            "image/png": "[encoded data removed]"
          },
          "metadata": {}
        }
      ],
      "source": [
        "nhl.boxplot(column=['PTS'])\n",
        "plt.show()"
      ]
    },
    {
      "cell_type": "markdown",
      "id": "b2085b9e-597a-4bce-8026-4ee10299dd7a",
      "metadata": {
        "id": "b2085b9e-597a-4bce-8026-4ee10299dd7a"
      },
      "source": [
        "We can also create multiple boxplots in the same plot. This can make it easier to compare the spread of different columns of data. However, it makes more sense to compare boxplots that have similar ranges of values."
      ]
    },
    {
      "cell_type": "code",
      "execution_count": 24,
      "id": "d3e38056-64b4-4f9a-aa5c-0a355a5f2796",
      "metadata": {
        "id": "d3e38056-64b4-4f9a-aa5c-0a355a5f2796",
        "outputId": "939995eb-6749-4b4d-d2b4-ea3587d25749",
        "colab": {
          "base_uri": "https://localhost:8080/",
          "height": 430
        }
      },
      "outputs": [
        {
          "output_type": "display_data",
          "data": {
            "text/plain": [
              "<Figure size 640x480 with 1 Axes>"
            ],
            "image/png": "[encoded data removed]"
          },
          "metadata": {}
        }
      ],
      "source": [
        "nhl.boxplot(column=['wins','PTS'])\n",
        "plt.show()"
      ]
    },
    {
      "cell_type": "markdown",
      "id": "d4eaf8ee-33a9-4322-b9fa-970a16a18f6b",
      "metadata": {
        "id": "d4eaf8ee-33a9-4322-b9fa-970a16a18f6b"
      },
      "source": [
        "As we can see, comparing wins and PTS is not super helpful, even though we could assume that the team that wins more games will earn more points over the course of the season. Instead, let's try comparing goals scored for (GF) and goals against (GA)."
      ]
    },
    {
      "cell_type": "code",
      "execution_count": 25,
      "id": "d6215928-3518-4af8-9fdf-e2f412e6065d",
      "metadata": {
        "id": "d6215928-3518-4af8-9fdf-e2f412e6065d",
        "outputId": "103b0f75-2515-45bb-bd1c-713a83cb7f4c",
        "colab": {
          "base_uri": "https://localhost:8080/",
          "height": 430
        }
      },
      "outputs": [
        {
          "output_type": "display_data",
          "data": {
            "text/plain": [
              "<Figure size 640x480 with 1 Axes>"
            ],
            "image/png": "[encoded data removed]"
          },
          "metadata": {}
        }
      ],
      "source": [
        "nhl.boxplot(column=['GF','GA'])\n",
        "plt.show()"
      ]
    },
    {
      "cell_type": "markdown",
      "id": "9d914727-ed78-4a7d-8b3c-5d4a3e68fb69",
      "metadata": {
        "id": "9d914727-ed78-4a7d-8b3c-5d4a3e68fb69"
      },
      "source": [
        "These are on the same scale or relative range of values and so comparing these two columns makes much more sense visually."
      ]
    },
    {
      "cell_type": "markdown",
      "id": "096d0754-f8c4-48eb-9f79-36f27b3d570e",
      "metadata": {
        "id": "096d0754-f8c4-48eb-9f79-36f27b3d570e"
      },
      "source": [
        "#### Try it Yourself\n",
        "\n",
        "Create a boxplot for the `wins` and `losses` columns."
      ]
    },
    {
      "cell_type": "code",
      "execution_count": 26,
      "id": "fd1ef264-b784-4905-a28b-b4437d974827",
      "metadata": {
        "id": "fd1ef264-b784-4905-a28b-b4437d974827",
        "outputId": "18a43cd2-e299-4cf0-85cc-9262bd5a76a5",
        "colab": {
          "base_uri": "https://localhost:8080/",
          "height": 430
        }
      },
      "outputs": [
        {
          "output_type": "display_data",
          "data": {
            "text/plain": [
              "<Figure size 640x480 with 1 Axes>"
            ],
            "image/png": "[encoded data removed]"
          },
          "metadata": {}
        }
      ],
      "source": [
        "# create boxplot\n",
        "nhl.boxplot(column=['wins','losses'])\n",
        "plt.show()\n",
        "\n"
      ]
    },
    {
      "cell_type": "code",
      "execution_count": null,
      "id": "932123c0-812d-4d6e-abb0-44aaef2f8e8e",
      "metadata": {
        "id": "932123c0-812d-4d6e-abb0-44aaef2f8e8e"
      },
      "outputs": [],
      "source": []
    }
  ],
  "metadata": {
    "kernelspec": {
      "display_name": "Python 3 (ipykernel)",
      "language": "python",
      "name": "python3"
    },
    "language_info": {
      "codemirror_mode": {
        "name": "ipython",
        "version": 3
      },
      "file_extension": ".py",
      "mimetype": "text/x-python",
      "name": "python",
      "nbconvert_exporter": "python",
      "pygments_lexer": "ipython3",
      "version": "3.10.13"
    },
    "colab": {
      "provenance": []
    }
  },
  "nbformat": 4,
  "nbformat_minor": 5
}