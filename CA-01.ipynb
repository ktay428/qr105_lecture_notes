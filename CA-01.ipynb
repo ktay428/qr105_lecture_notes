{
  "cells": [
    {
      "cell_type": "markdown",
      "metadata": {
        "id": "view-in-github",
        "colab_type": "text"
      },
      "source": [
        "<a href=\"https://colab.research.google.com/github/ktay428/qr105_lecture_notes/blob/main/CA-01.ipynb\" target=\"_parent\"><img src=\"https://colab.research.google.com/assets/colab-badge.svg\" alt=\"Open In Colab\"/></a>"
      ]
    },
    {
      "cell_type": "markdown",
      "id": "97f8bc26-47fb-4b5b-9e6d-27dfbf9441fa",
      "metadata": {
        "id": "97f8bc26-47fb-4b5b-9e6d-27dfbf9441fa"
      },
      "source": [
        "# Coding Activity 1\n",
        "\n",
        "For this activity you'll explore using markdown cells, variables, printing output, and basic operations.\n",
        "\n",
        "### How to complete the assignment\n",
        "For each question, add your code to the code block below each question.\n",
        "\n",
        "### Assignment submission\n",
        "You need to save this notebook to the GitHub repository created for your assignment. Then copy the repo link and\n",
        "\n",
        "### Assessment\n",
        "\n",
        "Coding activities are designed to get you practising in code while in class. They're generally graded for completion - code either runs or it doesn't.\n",
        "\n",
        "However, if you can't get something to work, honest attempts will recieve credit. So if you run into issues, add a markdown cell or add comments to your code so I can see what you tried and how you attempted to resolve the issue."
      ]
    },
    {
      "cell_type": "markdown",
      "id": "2613976b-5791-4573-ac83-2e5eb923cabf",
      "metadata": {
        "id": "2613976b-5791-4573-ac83-2e5eb923cabf"
      },
      "source": [
        "## 1. Use a print statement with variables\n",
        "\n",
        "Write some code that uses variables to print the following line with your relevant information:\n",
        "\n",
        ">My name is __ , and I am __ years old.\n",
        "\n",
        "The code block below has comments to help you out. You should write the relevant code below each comment\n"
      ]
    },
    {
      "cell_type": "code",
      "execution_count": null,
      "id": "afb4490e-6c81-405b-9cc7-9c9518f55338",
      "metadata": {
        "id": "afb4490e-6c81-405b-9cc7-9c9518f55338",
        "outputId": "4eee199b-f301-4990-e926-84b509251c9d",
        "colab": {
          "base_uri": "https://localhost:8080/"
        }
      },
      "outputs": [
        {
          "output_type": "stream",
          "name": "stdout",
          "text": [
            "My Name is Kali, and I am 18 years old.\n"
          ]
        }
      ],
      "source": [
        "# define variables\n",
        "name = ('Kali,')\n",
        "age  = 18\n",
        "\n",
        "#print statement\n",
        "print ('My Name is', name, 'and I am', age, 'years old.')\n",
        "\n",
        "\n",
        "\n"
      ]
    },
    {
      "cell_type": "code",
      "source": [],
      "metadata": {
        "id": "b5_UkCgbMMCC"
      },
      "id": "b5_UkCgbMMCC",
      "execution_count": null,
      "outputs": []
    },
    {
      "cell_type": "markdown",
      "id": "ebff5abf-e8a7-469e-a96b-333708d80de4",
      "metadata": {
        "id": "ebff5abf-e8a7-469e-a96b-333708d80de4"
      },
      "source": [
        "## 2. Use an f string\n",
        "\n",
        "Use one variable (given in the code block below) and an f string to produce the following output:\n",
        "\n",
        "```\n",
        "5 x 1 = 5\n",
        "5 x 2 = 10\n",
        "5 x 3 = 15\n",
        "5 x 4 = 20\n",
        "5 x 5 = 25\n",
        "```"
      ]
    },
    {
      "cell_type": "code",
      "execution_count": null,
      "id": "dd7d7f9a-daa9-4f80-8c51-5867f503deb8",
      "metadata": {
        "id": "dd7d7f9a-daa9-4f80-8c51-5867f503deb8",
        "outputId": "629e1d75-13d0-44a6-ca14-e0d39dabe37b",
        "colab": {
          "base_uri": "https://localhost:8080/"
        }
      },
      "outputs": [
        {
          "output_type": "stream",
          "name": "stdout",
          "text": [
            "5 x 1 = 5\n",
            "5 x 2 = 10\n",
            "5 x 3 = 15\n",
            "5 x 4 = 20\n",
            "5 x 5 = 25\n"
          ]
        }
      ],
      "source": [
        "# number to multiply\n",
        "number = 5\n",
        "# print multiplication table\n",
        "print (f'{number} x 1 = {number*1}')\n",
        "print (f'{number} x 2 = {number*2}')\n",
        "print (f'{number} x 3 = {number*3}')\n",
        "print (f'{number} x 4 = {number*4}')\n",
        "print (f'{number} x 5 = {number*5}')\n",
        "\n"
      ]
    },
    {
      "cell_type": "code",
      "execution_count": null,
      "id": "6a1f84ac-cfc0-4e66-8d76-8713e107f5a3",
      "metadata": {
        "id": "6a1f84ac-cfc0-4e66-8d76-8713e107f5a3"
      },
      "outputs": [],
      "source": []
    },
    {
      "cell_type": "markdown",
      "id": "e9038748-ca91-4202-ad2d-88bcdecf0216",
      "metadata": {
        "id": "e9038748-ca91-4202-ad2d-88bcdecf0216"
      },
      "source": [
        "## 3. Perform the requested operations\n",
        "Note that we did not explicitly cover these in class. Use your resources to find out how to do it. When doing searches, don't forget to add \"in Python\" to your query - otherwise you'll get all sorts of irrelevant answers."
      ]
    },
    {
      "cell_type": "code",
      "execution_count": null,
      "id": "866cc63d-1d40-4bdd-b9c2-43ece4e468df",
      "metadata": {
        "id": "866cc63d-1d40-4bdd-b9c2-43ece4e468df",
        "outputId": "b0fadd64-491d-4f32-e8cd-8632f8be31e7",
        "colab": {
          "base_uri": "https://localhost:8080/",
          "height": 53
        }
      },
      "outputs": [
        {
          "output_type": "stream",
          "name": "stdout",
          "text": [
            "0b101010\n"
          ]
        },
        {
          "output_type": "execute_result",
          "data": {
            "text/plain": [
              "'0b101010'"
            ],
            "application/vnd.google.colaboratory.intrinsic+json": {
              "type": "string"
            }
          },
          "metadata": {},
          "execution_count": 9
        }
      ],
      "source": [
        "# convert the number 42 to binary\n",
        "\n",
        "bin(42)"
      ]
    },
    {
      "cell_type": "code",
      "execution_count": null,
      "id": "c1b45bdb-a24e-4ff9-99b9-c8218ff9af90",
      "metadata": {
        "id": "c1b45bdb-a24e-4ff9-99b9-c8218ff9af90",
        "outputId": "e48e9373-c708-4e35-c386-f66d499e1880",
        "colab": {
          "base_uri": "https://localhost:8080/"
        }
      },
      "outputs": [
        {
          "output_type": "stream",
          "name": "stdout",
          "text": [
            "1927\n"
          ]
        }
      ],
      "source": [
        "# convert the binary number 11110000111 to an integer\n",
        "binary_number = '11110000111'\n",
        "integer = int(binary_number, 2)\n",
        "print (integer)"
      ]
    },
    {
      "cell_type": "markdown",
      "source": [
        "I used Google Gemini to see what this meant:\n",
        "https://g.co/gemini/share/ac64e081007e\n"
      ],
      "metadata": {
        "id": "YfhMD0sGDztO"
      },
      "id": "YfhMD0sGDztO"
    },
    {
      "cell_type": "markdown",
      "id": "0147f661-22a3-4b1d-8610-4dd8c8cd6904",
      "metadata": {
        "id": "0147f661-22a3-4b1d-8610-4dd8c8cd6904"
      },
      "source": [
        "## 4. Create a Markdown Cell\n",
        "\n",
        "Add a new markdown cell below this one. Share some thoughts on your first day coding in this class (something you found surprising, something you're confused about, etc). You can say anything - the goal is for you to practice adding text to a notebook 😊"
      ]
    },
    {
      "cell_type": "markdown",
      "source": [
        "I was very confused at first but it helped when we tried again in class. I also found it hard to understand the f-string example."
      ],
      "metadata": {
        "id": "UblM-3grNowP"
      },
      "id": "UblM-3grNowP"
    }
  ],
  "metadata": {
    "kernelspec": {
      "display_name": "Python 3 (ipykernel)",
      "language": "python",
      "name": "python3"
    },
    "language_info": {
      "codemirror_mode": {
        "name": "ipython",
        "version": 3
      },
      "file_extension": ".py",
      "mimetype": "text/x-python",
      "name": "python",
      "nbconvert_exporter": "python",
      "pygments_lexer": "ipython3",
      "version": "3.10.13"
    },
    "colab": {
      "provenance": [],
      "include_colab_link": true
    }
  },
  "nbformat": 4,
  "nbformat_minor": 5
}